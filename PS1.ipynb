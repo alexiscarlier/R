{
 "cells": [
  {
   "cell_type": "markdown",
   "metadata": {},
   "source": [
    "#### Exercise 1:  Generating dice rolls.\n",
    "Using the functions runif and round, simulate the results of 100 dice rolls."
   ]
  },
  {
   "cell_type": "code",
   "execution_count": 36,
   "metadata": {},
   "outputs": [],
   "source": [
    "dice <- c(1, 2, 3, 4, 5, 6)"
   ]
  },
  {
   "cell_type": "markdown",
   "metadata": {},
   "source": [
    "function which doesn't use the two functions they suggest"
   ]
  },
  {
   "cell_type": "code",
   "execution_count": 233,
   "metadata": {},
   "outputs": [],
   "source": [
    "hundred_rolls <- function(dice) {\n",
    "    for (roll in 1:100){\n",
    "      print(sample(dice, 1))\n",
    "    }\n",
    "}"
   ]
  },
  {
   "cell_type": "markdown",
   "metadata": {},
   "source": [
    "Function which does. Haven't checked but this is presumably quicker\n",
    "\n",
    "This function isn't quite right, because if it generated exactly 0.5 that will round to 0. Likewise if it\n",
    "generates exactly 6 that would be 5.5 which round to 5. Not sure how to fix this.\n",
    "Although, isn't the probability of it landing on one exact point in a continuous distribution zero? \"\n"
   ]
  },
  {
   "cell_type": "code",
   "execution_count": 232,
   "metadata": {},
   "outputs": [],
   "source": [
    "vectorized_hundred_rolls <- function(lowest_dice_value, highest_dice_value) {\n",
    "    round(runif(100, lowest_dice_value - 0.5, highest_dice_value - 0.5))\n",
    "}"
   ]
  },
  {
   "cell_type": "code",
   "execution_count": 88,
   "metadata": {},
   "outputs": [
    {
     "data": {
      "text/html": [
       "<ol class=list-inline>\n",
       "\t<li>3</li>\n",
       "\t<li>2</li>\n",
       "\t<li>2</li>\n",
       "\t<li>1</li>\n",
       "\t<li>5</li>\n",
       "\t<li>5</li>\n",
       "\t<li>4</li>\n",
       "\t<li>3</li>\n",
       "\t<li>1</li>\n",
       "\t<li>4</li>\n",
       "\t<li>3</li>\n",
       "\t<li>5</li>\n",
       "\t<li>1</li>\n",
       "\t<li>2</li>\n",
       "\t<li>1</li>\n",
       "\t<li>3</li>\n",
       "\t<li>3</li>\n",
       "\t<li>2</li>\n",
       "\t<li>5</li>\n",
       "\t<li>4</li>\n",
       "\t<li>5</li>\n",
       "\t<li>3</li>\n",
       "\t<li>1</li>\n",
       "\t<li>5</li>\n",
       "\t<li>5</li>\n",
       "\t<li>1</li>\n",
       "\t<li>2</li>\n",
       "\t<li>1</li>\n",
       "\t<li>2</li>\n",
       "\t<li>3</li>\n",
       "\t<li>2</li>\n",
       "\t<li>1</li>\n",
       "\t<li>1</li>\n",
       "\t<li>4</li>\n",
       "\t<li>4</li>\n",
       "\t<li>1</li>\n",
       "\t<li>1</li>\n",
       "\t<li>4</li>\n",
       "\t<li>1</li>\n",
       "\t<li>5</li>\n",
       "\t<li>4</li>\n",
       "\t<li>4</li>\n",
       "\t<li>5</li>\n",
       "\t<li>1</li>\n",
       "\t<li>3</li>\n",
       "\t<li>2</li>\n",
       "\t<li>1</li>\n",
       "\t<li>3</li>\n",
       "\t<li>1</li>\n",
       "\t<li>4</li>\n",
       "\t<li>2</li>\n",
       "\t<li>5</li>\n",
       "\t<li>5</li>\n",
       "\t<li>2</li>\n",
       "\t<li>1</li>\n",
       "\t<li>4</li>\n",
       "\t<li>5</li>\n",
       "\t<li>4</li>\n",
       "\t<li>2</li>\n",
       "\t<li>3</li>\n",
       "\t<li>5</li>\n",
       "\t<li>5</li>\n",
       "\t<li>2</li>\n",
       "\t<li>5</li>\n",
       "\t<li>4</li>\n",
       "\t<li>5</li>\n",
       "\t<li>4</li>\n",
       "\t<li>4</li>\n",
       "\t<li>5</li>\n",
       "\t<li>3</li>\n",
       "\t<li>1</li>\n",
       "\t<li>2</li>\n",
       "\t<li>2</li>\n",
       "\t<li>5</li>\n",
       "\t<li>2</li>\n",
       "\t<li>3</li>\n",
       "\t<li>3</li>\n",
       "\t<li>4</li>\n",
       "\t<li>3</li>\n",
       "\t<li>1</li>\n",
       "\t<li>3</li>\n",
       "\t<li>1</li>\n",
       "\t<li>2</li>\n",
       "\t<li>4</li>\n",
       "\t<li>4</li>\n",
       "\t<li>1</li>\n",
       "\t<li>3</li>\n",
       "\t<li>4</li>\n",
       "\t<li>5</li>\n",
       "\t<li>2</li>\n",
       "\t<li>1</li>\n",
       "\t<li>5</li>\n",
       "\t<li>1</li>\n",
       "\t<li>1</li>\n",
       "\t<li>2</li>\n",
       "\t<li>2</li>\n",
       "\t<li>5</li>\n",
       "\t<li>2</li>\n",
       "\t<li>1</li>\n",
       "\t<li>2</li>\n",
       "</ol>\n"
      ],
      "text/latex": [
       "\\begin{enumerate*}\n",
       "\\item 3\n",
       "\\item 2\n",
       "\\item 2\n",
       "\\item 1\n",
       "\\item 5\n",
       "\\item 5\n",
       "\\item 4\n",
       "\\item 3\n",
       "\\item 1\n",
       "\\item 4\n",
       "\\item 3\n",
       "\\item 5\n",
       "\\item 1\n",
       "\\item 2\n",
       "\\item 1\n",
       "\\item 3\n",
       "\\item 3\n",
       "\\item 2\n",
       "\\item 5\n",
       "\\item 4\n",
       "\\item 5\n",
       "\\item 3\n",
       "\\item 1\n",
       "\\item 5\n",
       "\\item 5\n",
       "\\item 1\n",
       "\\item 2\n",
       "\\item 1\n",
       "\\item 2\n",
       "\\item 3\n",
       "\\item 2\n",
       "\\item 1\n",
       "\\item 1\n",
       "\\item 4\n",
       "\\item 4\n",
       "\\item 1\n",
       "\\item 1\n",
       "\\item 4\n",
       "\\item 1\n",
       "\\item 5\n",
       "\\item 4\n",
       "\\item 4\n",
       "\\item 5\n",
       "\\item 1\n",
       "\\item 3\n",
       "\\item 2\n",
       "\\item 1\n",
       "\\item 3\n",
       "\\item 1\n",
       "\\item 4\n",
       "\\item 2\n",
       "\\item 5\n",
       "\\item 5\n",
       "\\item 2\n",
       "\\item 1\n",
       "\\item 4\n",
       "\\item 5\n",
       "\\item 4\n",
       "\\item 2\n",
       "\\item 3\n",
       "\\item 5\n",
       "\\item 5\n",
       "\\item 2\n",
       "\\item 5\n",
       "\\item 4\n",
       "\\item 5\n",
       "\\item 4\n",
       "\\item 4\n",
       "\\item 5\n",
       "\\item 3\n",
       "\\item 1\n",
       "\\item 2\n",
       "\\item 2\n",
       "\\item 5\n",
       "\\item 2\n",
       "\\item 3\n",
       "\\item 3\n",
       "\\item 4\n",
       "\\item 3\n",
       "\\item 1\n",
       "\\item 3\n",
       "\\item 1\n",
       "\\item 2\n",
       "\\item 4\n",
       "\\item 4\n",
       "\\item 1\n",
       "\\item 3\n",
       "\\item 4\n",
       "\\item 5\n",
       "\\item 2\n",
       "\\item 1\n",
       "\\item 5\n",
       "\\item 1\n",
       "\\item 1\n",
       "\\item 2\n",
       "\\item 2\n",
       "\\item 5\n",
       "\\item 2\n",
       "\\item 1\n",
       "\\item 2\n",
       "\\end{enumerate*}\n"
      ],
      "text/markdown": [
       "1. 3\n",
       "2. 2\n",
       "3. 2\n",
       "4. 1\n",
       "5. 5\n",
       "6. 5\n",
       "7. 4\n",
       "8. 3\n",
       "9. 1\n",
       "10. 4\n",
       "11. 3\n",
       "12. 5\n",
       "13. 1\n",
       "14. 2\n",
       "15. 1\n",
       "16. 3\n",
       "17. 3\n",
       "18. 2\n",
       "19. 5\n",
       "20. 4\n",
       "21. 5\n",
       "22. 3\n",
       "23. 1\n",
       "24. 5\n",
       "25. 5\n",
       "26. 1\n",
       "27. 2\n",
       "28. 1\n",
       "29. 2\n",
       "30. 3\n",
       "31. 2\n",
       "32. 1\n",
       "33. 1\n",
       "34. 4\n",
       "35. 4\n",
       "36. 1\n",
       "37. 1\n",
       "38. 4\n",
       "39. 1\n",
       "40. 5\n",
       "41. 4\n",
       "42. 4\n",
       "43. 5\n",
       "44. 1\n",
       "45. 3\n",
       "46. 2\n",
       "47. 1\n",
       "48. 3\n",
       "49. 1\n",
       "50. 4\n",
       "51. 2\n",
       "52. 5\n",
       "53. 5\n",
       "54. 2\n",
       "55. 1\n",
       "56. 4\n",
       "57. 5\n",
       "58. 4\n",
       "59. 2\n",
       "60. 3\n",
       "61. 5\n",
       "62. 5\n",
       "63. 2\n",
       "64. 5\n",
       "65. 4\n",
       "66. 5\n",
       "67. 4\n",
       "68. 4\n",
       "69. 5\n",
       "70. 3\n",
       "71. 1\n",
       "72. 2\n",
       "73. 2\n",
       "74. 5\n",
       "75. 2\n",
       "76. 3\n",
       "77. 3\n",
       "78. 4\n",
       "79. 3\n",
       "80. 1\n",
       "81. 3\n",
       "82. 1\n",
       "83. 2\n",
       "84. 4\n",
       "85. 4\n",
       "86. 1\n",
       "87. 3\n",
       "88. 4\n",
       "89. 5\n",
       "90. 2\n",
       "91. 1\n",
       "92. 5\n",
       "93. 1\n",
       "94. 1\n",
       "95. 2\n",
       "96. 2\n",
       "97. 5\n",
       "98. 2\n",
       "99. 1\n",
       "100. 2\n",
       "\n",
       "\n"
      ],
      "text/plain": [
       "  [1] 3 2 2 1 5 5 4 3 1 4 3 5 1 2 1 3 3 2 5 4 5 3 1 5 5 1 2 1 2 3 2 1 1 4 4 1 1\n",
       " [38] 4 1 5 4 4 5 1 3 2 1 3 1 4 2 5 5 2 1 4 5 4 2 3 5 5 2 5 4 5 4 4 5 3 1 2 2 5\n",
       " [75] 2 3 3 4 3 1 3 1 2 4 4 1 3 4 5 2 1 5 1 1 2 2 5 2 1 2"
      ]
     },
     "metadata": {},
     "output_type": "display_data"
    }
   ],
   "source": [
    "vectorized_hundred_rolls(1, 6)"
   ]
  },
  {
   "cell_type": "code",
   "execution_count": 89,
   "metadata": {},
   "outputs": [
    {
     "data": {
      "text/html": [
       "0"
      ],
      "text/latex": [
       "0"
      ],
      "text/markdown": [
       "0"
      ],
      "text/plain": [
       "[1] 0"
      ]
     },
     "metadata": {},
     "output_type": "display_data"
    }
   ],
   "source": [
    "round(0.5)"
   ]
  },
  {
   "cell_type": "markdown",
   "metadata": {},
   "source": [
    "#### Exercise 2: \n",
    " Let’s assume that we want to simulate a game in which we throw an unfair coin (success probability is 0.48) 10 times and you win 10 dollars every time the result is tails and lose $10 when the result is heads. Simulate this game 1000 time using rbinom, and find the expected amount of money you will gain or lose in this game using the simulated values."
   ]
  },
  {
   "cell_type": "code",
   "execution_count": 106,
   "metadata": {},
   "outputs": [
    {
     "data": {
      "text/html": [
       "0.6"
      ],
      "text/latex": [
       "0.6"
      ],
      "text/markdown": [
       "0.6"
      ],
      "text/plain": [
       "[1] 0.6"
      ]
     },
     "metadata": {},
     "output_type": "display_data"
    }
   ],
   "source": [
    "sum(rbinom(10, 1, 0.48))/10"
   ]
  },
  {
   "cell_type": "code",
   "execution_count": 109,
   "metadata": {},
   "outputs": [],
   "source": [
    "expected_money_calculator <- function(n, success_probability) {\n",
    "    expected_return = sum(rbinom(n, 10, success_probability)) \n",
    "    net_expected_return = 500 - (expected_return * 100)\n",
    "    return(net_expected_return)\n",
    "}"
   ]
  },
  {
   "cell_type": "code",
   "execution_count": 142,
   "metadata": {},
   "outputs": [
    {
     "data": {
      "text/html": [
       "4.778"
      ],
      "text/latex": [
       "4.778"
      ],
      "text/markdown": [
       "4.778"
      ],
      "text/plain": [
       "[1] 4.778"
      ]
     },
     "metadata": {},
     "output_type": "display_data"
    }
   ],
   "source": [
    "sum(rbinom(1000, 10, 0.48) / 1000)"
   ]
  },
  {
   "cell_type": "code",
   "execution_count": 227,
   "metadata": {},
   "outputs": [],
   "source": [
    "expected_return_calculator <- function(number_obs, number_trials, success_probability, failure_probability) {\n",
    "    expected_gain = sum(rbinom(number_obs, number_trials, success_probability))\n",
    "    expected_loss = sum(rbinom(number_obs, number_trials, failure_probability))\n",
    "    print(expected_gain - expected_loss)\n",
    "    return(expected_gain - expected_loss)\n",
    "}"
   ]
  },
  {
   "cell_type": "code",
   "execution_count": 228,
   "metadata": {},
   "outputs": [
    {
     "name": "stdout",
     "output_type": "stream",
     "text": [
      "[1] -358\n"
     ]
    },
    {
     "data": {
      "text/html": [
       "-358"
      ],
      "text/latex": [
       "-358"
      ],
      "text/markdown": [
       "-358"
      ],
      "text/plain": [
       "[1] -358"
      ]
     },
     "metadata": {},
     "output_type": "display_data"
    }
   ],
   "source": [
    "expected_return_calculator(1000, 10, .48, .52)"
   ]
  },
  {
   "cell_type": "code",
   "execution_count": 229,
   "metadata": {},
   "outputs": [
    {
     "name": "stdout",
     "output_type": "stream",
     "text": [
      "[1] -438\n",
      "[1] -322\n",
      "[1] -312\n",
      "[1] -365\n",
      "[1] -451\n",
      "[1] -450\n",
      "[1] -269\n",
      "[1] -537\n",
      "[1] -324\n",
      "[1] -454\n"
     ]
    }
   ],
   "source": [
    "# experimental loss samples \n",
    "for (return in 1:10) {\n",
    "    expected_return_calculator(1000, 10, 0.48, 0.52)\n",
    "}"
   ]
  },
  {
   "cell_type": "code",
   "execution_count": 230,
   "metadata": {},
   "outputs": [
    {
     "data": {
      "text/html": [
       "-400"
      ],
      "text/latex": [
       "-400"
      ],
      "text/markdown": [
       "-400"
      ],
      "text/plain": [
       "[1] -400"
      ]
     },
     "metadata": {},
     "output_type": "display_data"
    }
   ],
   "source": [
    "# The theoretical expected loss \n",
    "\n",
    "(.48-.52) * 10 * 1000"
   ]
  },
  {
   "cell_type": "markdown",
   "metadata": {},
   "source": [
    "#### Exercise 3:\n",
    "Simulate an experiment of throwing one dice 30 times using the function rmultinom, and find out how many 6’s are in the simulated sample."
   ]
  },
  {
   "cell_type": "code",
   "execution_count": 237,
   "metadata": {},
   "outputs": [
    {
     "data": {
      "text/html": [
       "<table>\n",
       "<tbody>\n",
       "\t<tr><td>6</td><td>6</td><td>6</td><td>6</td><td>6</td><td>6</td><td>6</td><td>6</td><td>6</td><td>6</td><td>⋯</td><td>6</td><td>6</td><td>6</td><td>6</td><td>6</td><td>6</td><td>6</td><td>6</td><td>6</td><td>6</td></tr>\n",
       "</tbody>\n",
       "</table>\n"
      ],
      "text/latex": [
       "\\begin{tabular}{llllllllllllllllllllllllllllll}\n",
       "\t 6 & 6 & 6 & 6 & 6 & 6 & 6 & 6 & 6 & 6 & ⋯ & 6 & 6 & 6 & 6 & 6 & 6 & 6 & 6 & 6 & 6\\\\\n",
       "\\end{tabular}\n"
      ],
      "text/markdown": [
       "\n",
       "| 6 | 6 | 6 | 6 | 6 | 6 | 6 | 6 | 6 | 6 | ⋯ | 6 | 6 | 6 | 6 | 6 | 6 | 6 | 6 | 6 | 6 | \n",
       "\n",
       "\n"
      ],
      "text/plain": [
       "     [,1] [,2] [,3] [,4] [,5] [,6] [,7] [,8] [,9] [,10] [,11] [,12] [,13] [,14]\n",
       "[1,] 6    6    6    6    6    6    6    6    6    6     ⋯     6     6     6    \n",
       "     [,15] [,16] [,17] [,18] [,19] [,20] [,21]\n",
       "[1,] 6     6     6     6     6     6     6    "
      ]
     },
     "metadata": {},
     "output_type": "display_data"
    }
   ],
   "source": [
    "rMultinom(30, 6, .1)"
   ]
  },
  {
   "cell_type": "code",
   "execution_count": 111,
   "metadata": {},
   "outputs": [],
   "source": []
  }
 ],
 "metadata": {
  "kernelspec": {
   "display_name": "R",
   "language": "R",
   "name": "ir"
  },
  "language_info": {
   "codemirror_mode": "r",
   "file_extension": ".r",
   "mimetype": "text/x-r-source",
   "name": "R",
   "pygments_lexer": "r",
   "version": "3.5.0"
  }
 },
 "nbformat": 4,
 "nbformat_minor": 2
}
