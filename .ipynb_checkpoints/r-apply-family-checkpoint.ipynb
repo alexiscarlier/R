{
 "cells": [
  {
   "cell_type": "markdown",
   "metadata": {},
   "source": [
    "[from here https://www.datacamp.com/community/tutorials/r-tutorial-apply-family?utm_source=adwords_ppc&utm_campaignid=898687156&utm_adgroupid=48947256715&utm_device=c&utm_keyword=&utm_matchtype=b&utm_network=g&utm_adpostion=1t1&utm_creative=229765585186&utm_targetid=aud-299261629574:dsa-473406586995&utm_loc_interest_ms=&utm_loc_physical_ms=1006976&gclid=CjwKCAjwh9_bBRA_EiwApObaOBBBa3VQg2IdUyVeeI0gMPTVevVK_LBKtyEp6hDeKp0sWCwjgMKLORoCV2MQAvD_BwE#codelapplycode]\n",
    "\n",
    "These functions allow crossing the data in a number of ways and avoid explicit use of loop constructs. They act on an input list, matrix or array and apply a named function with one or several optional arguments.\n",
    "\n",
    "#### apply()"
   ]
  },
  {
   "cell_type": "code",
   "execution_count": 1,
   "metadata": {},
   "outputs": [],
   "source": [
    "X <- matrix(rnorm(30), nrow=5, ncol=6)"
   ]
  },
  {
   "cell_type": "code",
   "execution_count": 2,
   "metadata": {},
   "outputs": [
    {
     "data": {
      "text/html": [
       "<table>\n",
       "<tbody>\n",
       "\t<tr><td>-0.30633673</td><td>-0.01117864</td><td>-0.3918134 </td><td>-0.9835978 </td><td>-0.9606930 </td><td>-0.04633925</td></tr>\n",
       "\t<tr><td> 0.08962647</td><td>-0.36809319</td><td>-1.4108587 </td><td> 1.6247579 </td><td> 0.1615578 </td><td>-0.60664474</td></tr>\n",
       "\t<tr><td>-0.34652513</td><td>-0.93795206</td><td> 0.8897838 </td><td> 0.4604928 </td><td>-1.0782763 </td><td>-0.50800128</td></tr>\n",
       "\t<tr><td> 0.27820983</td><td>-0.86132617</td><td> 0.7640985 </td><td>-0.4692085 </td><td>-0.5024208 </td><td>-0.91707541</td></tr>\n",
       "\t<tr><td> 0.57595076</td><td> 1.73460453</td><td>-2.0148239 </td><td> 0.5186808 </td><td>-0.7254485 </td><td> 0.57356750</td></tr>\n",
       "</tbody>\n",
       "</table>\n"
      ],
      "text/latex": [
       "\\begin{tabular}{llllll}\n",
       "\t -0.30633673 & -0.01117864 & -0.3918134  & -0.9835978  & -0.9606930  & -0.04633925\\\\\n",
       "\t  0.08962647 & -0.36809319 & -1.4108587  &  1.6247579  &  0.1615578  & -0.60664474\\\\\n",
       "\t -0.34652513 & -0.93795206 &  0.8897838  &  0.4604928  & -1.0782763  & -0.50800128\\\\\n",
       "\t  0.27820983 & -0.86132617 &  0.7640985  & -0.4692085  & -0.5024208  & -0.91707541\\\\\n",
       "\t  0.57595076 &  1.73460453 & -2.0148239  &  0.5186808  & -0.7254485  &  0.57356750\\\\\n",
       "\\end{tabular}\n"
      ],
      "text/markdown": [
       "\n",
       "| -0.30633673 | -0.01117864 | -0.3918134  | -0.9835978  | -0.9606930  | -0.04633925 | \n",
       "|  0.08962647 | -0.36809319 | -1.4108587  |  1.6247579  |  0.1615578  | -0.60664474 | \n",
       "| -0.34652513 | -0.93795206 |  0.8897838  |  0.4604928  | -1.0782763  | -0.50800128 | \n",
       "|  0.27820983 | -0.86132617 |  0.7640985  | -0.4692085  | -0.5024208  | -0.91707541 | \n",
       "|  0.57595076 |  1.73460453 | -2.0148239  |  0.5186808  | -0.7254485  |  0.57356750 | \n",
       "\n",
       "\n"
      ],
      "text/plain": [
       "     [,1]        [,2]        [,3]       [,4]       [,5]       [,6]       \n",
       "[1,] -0.30633673 -0.01117864 -0.3918134 -0.9835978 -0.9606930 -0.04633925\n",
       "[2,]  0.08962647 -0.36809319 -1.4108587  1.6247579  0.1615578 -0.60664474\n",
       "[3,] -0.34652513 -0.93795206  0.8897838  0.4604928 -1.0782763 -0.50800128\n",
       "[4,]  0.27820983 -0.86132617  0.7640985 -0.4692085 -0.5024208 -0.91707541\n",
       "[5,]  0.57595076  1.73460453 -2.0148239  0.5186808 -0.7254485  0.57356750"
      ]
     },
     "metadata": {},
     "output_type": "display_data"
    }
   ],
   "source": [
    "X"
   ]
  },
  {
   "cell_type": "code",
   "execution_count": 3,
   "metadata": {},
   "outputs": [
    {
     "data": {
      "text/html": [
       "<ol class=list-inline>\n",
       "\t<li>0.290925198664475</li>\n",
       "\t<li>-0.443945529494251</li>\n",
       "\t<li>-2.16361368017373</li>\n",
       "\t<li>1.1511253021502</li>\n",
       "\t<li>-3.10528088984051</li>\n",
       "\t<li>-1.50449317907737</li>\n",
       "</ol>\n"
      ],
      "text/latex": [
       "\\begin{enumerate*}\n",
       "\\item 0.290925198664475\n",
       "\\item -0.443945529494251\n",
       "\\item -2.16361368017373\n",
       "\\item 1.1511253021502\n",
       "\\item -3.10528088984051\n",
       "\\item -1.50449317907737\n",
       "\\end{enumerate*}\n"
      ],
      "text/markdown": [
       "1. 0.290925198664475\n",
       "2. -0.443945529494251\n",
       "3. -2.16361368017373\n",
       "4. 1.1511253021502\n",
       "5. -3.10528088984051\n",
       "6. -1.50449317907737\n",
       "\n",
       "\n"
      ],
      "text/plain": [
       "[1]  0.2909252 -0.4439455 -2.1636137  1.1511253 -3.1052809 -1.5044932"
      ]
     },
     "metadata": {},
     "output_type": "display_data"
    }
   ],
   "source": [
    "apply(X, 2, sum)"
   ]
  },
  {
   "cell_type": "markdown",
   "metadata": {},
   "source": [
    "#### lapply()\n",
    "\n",
    "The difference from apply() is that:\n",
    "\n",
    "- It can be used for other objects like dataframes, lists or vectors; and\n",
    "- The output returned is a list (which explains the “l” in the function name), which has the same number of elements as the object passed to it."
   ]
  },
  {
   "cell_type": "code",
   "execution_count": 4,
   "metadata": {},
   "outputs": [],
   "source": [
    "A <- matrix(data = 1:9, nrow = 3, ncol = 3)\n",
    "B <- matrix(data = 4:15, nrow = 4, ncol = 3)\n",
    "C <- matrix(data = 8:10, nrow = 3, ncol = 2)\n",
    "\n",
    "MyList <- list(A, B, C)"
   ]
  },
  {
   "cell_type": "code",
   "execution_count": 5,
   "metadata": {},
   "outputs": [
    {
     "data": {
      "text/html": [
       "<ol>\n",
       "\t<li><table>\n",
       "<tbody>\n",
       "\t<tr><td>1</td><td>4</td><td>7</td></tr>\n",
       "\t<tr><td>2</td><td>5</td><td>8</td></tr>\n",
       "\t<tr><td>3</td><td>6</td><td>9</td></tr>\n",
       "</tbody>\n",
       "</table>\n",
       "</li>\n",
       "\t<li><table>\n",
       "<tbody>\n",
       "\t<tr><td>4 </td><td> 8</td><td>12</td></tr>\n",
       "\t<tr><td>5 </td><td> 9</td><td>13</td></tr>\n",
       "\t<tr><td>6 </td><td>10</td><td>14</td></tr>\n",
       "\t<tr><td>7 </td><td>11</td><td>15</td></tr>\n",
       "</tbody>\n",
       "</table>\n",
       "</li>\n",
       "\t<li><table>\n",
       "<tbody>\n",
       "\t<tr><td> 8</td><td> 8</td></tr>\n",
       "\t<tr><td> 9</td><td> 9</td></tr>\n",
       "\t<tr><td>10</td><td>10</td></tr>\n",
       "</tbody>\n",
       "</table>\n",
       "</li>\n",
       "</ol>\n"
      ],
      "text/latex": [
       "\\begin{enumerate}\n",
       "\\item \\begin{tabular}{lll}\n",
       "\t 1 & 4 & 7\\\\\n",
       "\t 2 & 5 & 8\\\\\n",
       "\t 3 & 6 & 9\\\\\n",
       "\\end{tabular}\n",
       "\n",
       "\\item \\begin{tabular}{lll}\n",
       "\t 4  &  8 & 12\\\\\n",
       "\t 5  &  9 & 13\\\\\n",
       "\t 6  & 10 & 14\\\\\n",
       "\t 7  & 11 & 15\\\\\n",
       "\\end{tabular}\n",
       "\n",
       "\\item \\begin{tabular}{ll}\n",
       "\t  8 &  8\\\\\n",
       "\t  9 &  9\\\\\n",
       "\t 10 & 10\\\\\n",
       "\\end{tabular}\n",
       "\n",
       "\\end{enumerate}\n"
      ],
      "text/markdown": [
       "1. \n",
       "| 1 | 4 | 7 | \n",
       "| 2 | 5 | 8 | \n",
       "| 3 | 6 | 9 | \n",
       "\n",
       "\n",
       "\n",
       "2. \n",
       "| 4  |  8 | 12 | \n",
       "| 5  |  9 | 13 | \n",
       "| 6  | 10 | 14 | \n",
       "| 7  | 11 | 15 | \n",
       "\n",
       "\n",
       "\n",
       "3. \n",
       "|  8 |  8 | \n",
       "|  9 |  9 | \n",
       "| 10 | 10 | \n",
       "\n",
       "\n",
       "\n",
       "\n",
       "\n"
      ],
      "text/plain": [
       "[[1]]\n",
       "     [,1] [,2] [,3]\n",
       "[1,]    1    4    7\n",
       "[2,]    2    5    8\n",
       "[3,]    3    6    9\n",
       "\n",
       "[[2]]\n",
       "     [,1] [,2] [,3]\n",
       "[1,]    4    8   12\n",
       "[2,]    5    9   13\n",
       "[3,]    6   10   14\n",
       "[4,]    7   11   15\n",
       "\n",
       "[[3]]\n",
       "     [,1] [,2]\n",
       "[1,]    8    8\n",
       "[2,]    9    9\n",
       "[3,]   10   10\n"
      ]
     },
     "metadata": {},
     "output_type": "display_data"
    }
   ],
   "source": [
    "MyList"
   ]
  },
  {
   "cell_type": "markdown",
   "metadata": {},
   "source": [
    "The empty space between the commas is because that's because where you'd say what row we want; \n",
    "here, we only want column"
   ]
  },
  {
   "cell_type": "code",
   "execution_count": 6,
   "metadata": {},
   "outputs": [
    {
     "data": {
      "text/html": [
       "<ol>\n",
       "\t<li><ol class=list-inline>\n",
       "\t<li>4</li>\n",
       "\t<li>5</li>\n",
       "\t<li>6</li>\n",
       "</ol>\n",
       "</li>\n",
       "\t<li><ol class=list-inline>\n",
       "\t<li>8</li>\n",
       "\t<li>9</li>\n",
       "\t<li>10</li>\n",
       "\t<li>11</li>\n",
       "</ol>\n",
       "</li>\n",
       "\t<li><ol class=list-inline>\n",
       "\t<li>8</li>\n",
       "\t<li>9</li>\n",
       "\t<li>10</li>\n",
       "</ol>\n",
       "</li>\n",
       "</ol>\n"
      ],
      "text/latex": [
       "\\begin{enumerate}\n",
       "\\item \\begin{enumerate*}\n",
       "\\item 4\n",
       "\\item 5\n",
       "\\item 6\n",
       "\\end{enumerate*}\n",
       "\n",
       "\\item \\begin{enumerate*}\n",
       "\\item 8\n",
       "\\item 9\n",
       "\\item 10\n",
       "\\item 11\n",
       "\\end{enumerate*}\n",
       "\n",
       "\\item \\begin{enumerate*}\n",
       "\\item 8\n",
       "\\item 9\n",
       "\\item 10\n",
       "\\end{enumerate*}\n",
       "\n",
       "\\end{enumerate}\n"
      ],
      "text/markdown": [
       "1. 1. 4\n",
       "2. 5\n",
       "3. 6\n",
       "\n",
       "\n",
       "\n",
       "2. 1. 8\n",
       "2. 9\n",
       "3. 10\n",
       "4. 11\n",
       "\n",
       "\n",
       "\n",
       "3. 1. 8\n",
       "2. 9\n",
       "3. 10\n",
       "\n",
       "\n",
       "\n",
       "\n",
       "\n"
      ],
      "text/plain": [
       "[[1]]\n",
       "[1] 4 5 6\n",
       "\n",
       "[[2]]\n",
       "[1]  8  9 10 11\n",
       "\n",
       "[[3]]\n",
       "[1]  8  9 10\n"
      ]
     },
     "metadata": {},
     "output_type": "display_data"
    }
   ],
   "source": [
    "lapply(MyList,\"[\", ,2)"
   ]
  },
  {
   "cell_type": "markdown",
   "metadata": {},
   "source": [
    "In this case we have selected a row, but we've left the column blank"
   ]
  },
  {
   "cell_type": "code",
   "execution_count": 7,
   "metadata": {},
   "outputs": [
    {
     "data": {
      "text/html": [
       "<ol>\n",
       "\t<li><ol class=list-inline>\n",
       "\t<li>1</li>\n",
       "\t<li>4</li>\n",
       "\t<li>7</li>\n",
       "</ol>\n",
       "</li>\n",
       "\t<li><ol class=list-inline>\n",
       "\t<li>4</li>\n",
       "\t<li>8</li>\n",
       "\t<li>12</li>\n",
       "</ol>\n",
       "</li>\n",
       "\t<li><ol class=list-inline>\n",
       "\t<li>8</li>\n",
       "\t<li>8</li>\n",
       "</ol>\n",
       "</li>\n",
       "</ol>\n"
      ],
      "text/latex": [
       "\\begin{enumerate}\n",
       "\\item \\begin{enumerate*}\n",
       "\\item 1\n",
       "\\item 4\n",
       "\\item 7\n",
       "\\end{enumerate*}\n",
       "\n",
       "\\item \\begin{enumerate*}\n",
       "\\item 4\n",
       "\\item 8\n",
       "\\item 12\n",
       "\\end{enumerate*}\n",
       "\n",
       "\\item \\begin{enumerate*}\n",
       "\\item 8\n",
       "\\item 8\n",
       "\\end{enumerate*}\n",
       "\n",
       "\\end{enumerate}\n"
      ],
      "text/markdown": [
       "1. 1. 1\n",
       "2. 4\n",
       "3. 7\n",
       "\n",
       "\n",
       "\n",
       "2. 1. 4\n",
       "2. 8\n",
       "3. 12\n",
       "\n",
       "\n",
       "\n",
       "3. 1. 8\n",
       "2. 8\n",
       "\n",
       "\n",
       "\n",
       "\n",
       "\n"
      ],
      "text/plain": [
       "[[1]]\n",
       "[1] 1 4 7\n",
       "\n",
       "[[2]]\n",
       "[1]  4  8 12\n",
       "\n",
       "[[3]]\n",
       "[1] 8 8\n"
      ]
     },
     "metadata": {},
     "output_type": "display_data"
    }
   ],
   "source": [
    "lapply(MyList, \"[\", 1, )"
   ]
  },
  {
   "cell_type": "markdown",
   "metadata": {},
   "source": [
    "#### sapply()\n",
    "\n",
    "The sapply() function works like lapply(), but it tries to simplify the output to the most elementary data structure that is possible. And indeed, sapply() is a ‘wrapper’ function for lapply()."
   ]
  },
  {
   "cell_type": "code",
   "execution_count": 8,
   "metadata": {},
   "outputs": [
    {
     "data": {
      "text/html": [
       "<ol>\n",
       "\t<li>2</li>\n",
       "\t<li>5</li>\n",
       "\t<li>9</li>\n",
       "</ol>\n"
      ],
      "text/latex": [
       "\\begin{enumerate}\n",
       "\\item 2\n",
       "\\item 5\n",
       "\\item 9\n",
       "\\end{enumerate}\n"
      ],
      "text/markdown": [
       "1. 2\n",
       "2. 5\n",
       "3. 9\n",
       "\n",
       "\n"
      ],
      "text/plain": [
       "[[1]]\n",
       "[1] 2\n",
       "\n",
       "[[2]]\n",
       "[1] 5\n",
       "\n",
       "[[3]]\n",
       "[1] 9\n"
      ]
     },
     "metadata": {},
     "output_type": "display_data"
    }
   ],
   "source": [
    "# Compare lapply() and sapply()\n",
    "\n",
    "lapply(MyList,\"[\", 2, 1 )"
   ]
  },
  {
   "cell_type": "code",
   "execution_count": 10,
   "metadata": {},
   "outputs": [
    {
     "data": {
      "text/html": [
       "'list'"
      ],
      "text/latex": [
       "'list'"
      ],
      "text/markdown": [
       "'list'"
      ],
      "text/plain": [
       "[1] \"list\""
      ]
     },
     "metadata": {},
     "output_type": "display_data"
    }
   ],
   "source": [
    "typeof(lapply(MyList,\"[\", 2, 1 ))"
   ]
  },
  {
   "cell_type": "code",
   "execution_count": 16,
   "metadata": {},
   "outputs": [
    {
     "data": {
      "text/html": [
       "<ol class=list-inline>\n",
       "\t<li>2</li>\n",
       "\t<li>5</li>\n",
       "\t<li>9</li>\n",
       "</ol>\n"
      ],
      "text/latex": [
       "\\begin{enumerate*}\n",
       "\\item 2\n",
       "\\item 5\n",
       "\\item 9\n",
       "\\end{enumerate*}\n"
      ],
      "text/markdown": [
       "1. 2\n",
       "2. 5\n",
       "3. 9\n",
       "\n",
       "\n"
      ],
      "text/plain": [
       "[1] 2 5 9"
      ]
     },
     "metadata": {},
     "output_type": "display_data"
    }
   ],
   "source": [
    "sapply(MyList, \"[\", 2, 1)"
   ]
  },
  {
   "cell_type": "code",
   "execution_count": 11,
   "metadata": {},
   "outputs": [
    {
     "data": {
      "text/html": [
       "'integer'"
      ],
      "text/latex": [
       "'integer'"
      ],
      "text/markdown": [
       "'integer'"
      ],
      "text/plain": [
       "[1] \"integer\""
      ]
     },
     "metadata": {},
     "output_type": "display_data"
    }
   ],
   "source": [
    "typeof(sapply(MyList, \"[\", 2, 1))"
   ]
  },
  {
   "cell_type": "code",
   "execution_count": 19,
   "metadata": {},
   "outputs": [
    {
     "data": {
      "text/html": [
       "<ol>\n",
       "\t<li>2</li>\n",
       "\t<li>5</li>\n",
       "\t<li>9</li>\n",
       "</ol>\n"
      ],
      "text/latex": [
       "\\begin{enumerate}\n",
       "\\item 2\n",
       "\\item 5\n",
       "\\item 9\n",
       "\\end{enumerate}\n"
      ],
      "text/markdown": [
       "1. 2\n",
       "2. 5\n",
       "3. 9\n",
       "\n",
       "\n"
      ],
      "text/plain": [
       "[[1]]\n",
       "[1] 2\n",
       "\n",
       "[[2]]\n",
       "[1] 5\n",
       "\n",
       "[[3]]\n",
       "[1] 9\n"
      ]
     },
     "metadata": {},
     "output_type": "display_data"
    }
   ],
   "source": [
    "# When simplify is FALSE behavious is as with lapply()\n",
    "\n",
    "sapply(MyList, \"[\", 2, 1, simplify = FALSE)"
   ]
  },
  {
   "cell_type": "markdown",
   "metadata": {},
   "source": [
    "Good article: https://www.r-bloggers.com/using-apply-sapply-lapply-in-r/"
   ]
  },
  {
   "cell_type": "code",
   "execution_count": null,
   "metadata": {},
   "outputs": [],
   "source": []
  }
 ],
 "metadata": {
  "kernelspec": {
   "display_name": "R",
   "language": "R",
   "name": "ir"
  },
  "language_info": {
   "codemirror_mode": "r",
   "file_extension": ".r",
   "mimetype": "text/x-r-source",
   "name": "R",
   "pygments_lexer": "r",
   "version": "3.5.0"
  }
 },
 "nbformat": 4,
 "nbformat_minor": 2
}
