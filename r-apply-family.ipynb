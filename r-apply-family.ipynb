{
 "cells": [
  {
   "cell_type": "markdown",
   "metadata": {},
   "source": [
    "[from here https://www.datacamp.com/community/tutorials/r-tutorial-apply-family?utm_source=adwords_ppc&utm_campaignid=898687156&utm_adgroupid=48947256715&utm_device=c&utm_keyword=&utm_matchtype=b&utm_network=g&utm_adpostion=1t1&utm_creative=229765585186&utm_targetid=aud-299261629574:dsa-473406586995&utm_loc_interest_ms=&utm_loc_physical_ms=1006976&gclid=CjwKCAjwh9_bBRA_EiwApObaOBBBa3VQg2IdUyVeeI0gMPTVevVK_LBKtyEp6hDeKp0sWCwjgMKLORoCV2MQAvD_BwE#codelapplycode]\n",
    "\n",
    "These functions allow crossing the data in a number of ways and avoid explicit use of loop constructs. They act on an input list, matrix or array and apply a named function with one or several optional arguments.\n",
    "\n",
    "#### apply()"
   ]
  },
  {
   "cell_type": "code",
   "execution_count": 1,
   "metadata": {},
   "outputs": [],
   "source": [
    "X <- matrix(rnorm(30), nrow=5, ncol=6)"
   ]
  },
  {
   "cell_type": "code",
   "execution_count": 2,
   "metadata": {},
   "outputs": [
    {
     "data": {
      "text/html": [
       "<table>\n",
       "<tbody>\n",
       "\t<tr><td>-1.7648698 </td><td>-0.9681232 </td><td> 0.8652812 </td><td>-1.3385158 </td><td> 0.15191537</td><td>-0.7293546 </td></tr>\n",
       "\t<tr><td>-0.2429392 </td><td> 0.1016771 </td><td> 0.2233147 </td><td> 0.8072886 </td><td>-0.04300274</td><td>-0.7057317 </td></tr>\n",
       "\t<tr><td>-1.1247899 </td><td> 0.1935240 </td><td>-0.3702220 </td><td>-0.9269893 </td><td>-0.37576651</td><td> 1.3872886 </td></tr>\n",
       "\t<tr><td> 0.7997437 </td><td> 0.3726808 </td><td>-0.5780711 </td><td>-0.7692512 </td><td>-0.36780100</td><td>-1.3405953 </td></tr>\n",
       "\t<tr><td> 0.5810471 </td><td>-0.1703864 </td><td> 1.5247963 </td><td>-1.0809034 </td><td>-0.15817830</td><td>-0.9181016 </td></tr>\n",
       "</tbody>\n",
       "</table>\n"
      ],
      "text/latex": [
       "\\begin{tabular}{llllll}\n",
       "\t -1.7648698  & -0.9681232  &  0.8652812  & -1.3385158  &  0.15191537 & -0.7293546 \\\\\n",
       "\t -0.2429392  &  0.1016771  &  0.2233147  &  0.8072886  & -0.04300274 & -0.7057317 \\\\\n",
       "\t -1.1247899  &  0.1935240  & -0.3702220  & -0.9269893  & -0.37576651 &  1.3872886 \\\\\n",
       "\t  0.7997437  &  0.3726808  & -0.5780711  & -0.7692512  & -0.36780100 & -1.3405953 \\\\\n",
       "\t  0.5810471  & -0.1703864  &  1.5247963  & -1.0809034  & -0.15817830 & -0.9181016 \\\\\n",
       "\\end{tabular}\n"
      ],
      "text/markdown": [
       "\n",
       "| -1.7648698  | -0.9681232  |  0.8652812  | -1.3385158  |  0.15191537 | -0.7293546  | \n",
       "| -0.2429392  |  0.1016771  |  0.2233147  |  0.8072886  | -0.04300274 | -0.7057317  | \n",
       "| -1.1247899  |  0.1935240  | -0.3702220  | -0.9269893  | -0.37576651 |  1.3872886  | \n",
       "|  0.7997437  |  0.3726808  | -0.5780711  | -0.7692512  | -0.36780100 | -1.3405953  | \n",
       "|  0.5810471  | -0.1703864  |  1.5247963  | -1.0809034  | -0.15817830 | -0.9181016  | \n",
       "\n",
       "\n"
      ],
      "text/plain": [
       "     [,1]       [,2]       [,3]       [,4]       [,5]        [,6]      \n",
       "[1,] -1.7648698 -0.9681232  0.8652812 -1.3385158  0.15191537 -0.7293546\n",
       "[2,] -0.2429392  0.1016771  0.2233147  0.8072886 -0.04300274 -0.7057317\n",
       "[3,] -1.1247899  0.1935240 -0.3702220 -0.9269893 -0.37576651  1.3872886\n",
       "[4,]  0.7997437  0.3726808 -0.5780711 -0.7692512 -0.36780100 -1.3405953\n",
       "[5,]  0.5810471 -0.1703864  1.5247963 -1.0809034 -0.15817830 -0.9181016"
      ]
     },
     "metadata": {},
     "output_type": "display_data"
    }
   ],
   "source": [
    "X"
   ]
  },
  {
   "cell_type": "code",
   "execution_count": 3,
   "metadata": {},
   "outputs": [
    {
     "data": {
      "text/html": [
       "<ol class=list-inline>\n",
       "\t<li>-1.75180818947117</li>\n",
       "\t<li>-0.470627786405863</li>\n",
       "\t<li>1.66509901680899</li>\n",
       "\t<li>-3.3083710313871</li>\n",
       "\t<li>-0.792833179599116</li>\n",
       "\t<li>-2.30649461131832</li>\n",
       "</ol>\n"
      ],
      "text/latex": [
       "\\begin{enumerate*}\n",
       "\\item -1.75180818947117\n",
       "\\item -0.470627786405863\n",
       "\\item 1.66509901680899\n",
       "\\item -3.3083710313871\n",
       "\\item -0.792833179599116\n",
       "\\item -2.30649461131832\n",
       "\\end{enumerate*}\n"
      ],
      "text/markdown": [
       "1. -1.75180818947117\n",
       "2. -0.470627786405863\n",
       "3. 1.66509901680899\n",
       "4. -3.3083710313871\n",
       "5. -0.792833179599116\n",
       "6. -2.30649461131832\n",
       "\n",
       "\n"
      ],
      "text/plain": [
       "[1] -1.7518082 -0.4706278  1.6650990 -3.3083710 -0.7928332 -2.3064946"
      ]
     },
     "metadata": {},
     "output_type": "display_data"
    }
   ],
   "source": [
    "apply(X, 2, sum)"
   ]
  },
  {
   "cell_type": "markdown",
   "metadata": {},
   "source": [
    "#### lapply()\n",
    "\n",
    "The difference from apply() is that:\n",
    "\n",
    "- It can be used for other objects like dataframes, lists or vectors; and\n",
    "- The output returned is a list (which explains the “l” in the function name), which has the same number of elements as the object passed to it."
   ]
  },
  {
   "cell_type": "code",
   "execution_count": 4,
   "metadata": {},
   "outputs": [],
   "source": [
    "A <- matrix(data = 1:9, nrow = 3, ncol = 3)\n",
    "B <- matrix(data = 4:15, nrow = 4, ncol = 3)\n",
    "C <- matrix(data = 8:10, nrow = 3, ncol = 2)\n",
    "\n",
    "MyList <- list(A, B, C)"
   ]
  },
  {
   "cell_type": "code",
   "execution_count": 5,
   "metadata": {},
   "outputs": [
    {
     "data": {
      "text/html": [
       "<ol>\n",
       "\t<li><table>\n",
       "<tbody>\n",
       "\t<tr><td>1</td><td>4</td><td>7</td></tr>\n",
       "\t<tr><td>2</td><td>5</td><td>8</td></tr>\n",
       "\t<tr><td>3</td><td>6</td><td>9</td></tr>\n",
       "</tbody>\n",
       "</table>\n",
       "</li>\n",
       "\t<li><table>\n",
       "<tbody>\n",
       "\t<tr><td>4 </td><td> 8</td><td>12</td></tr>\n",
       "\t<tr><td>5 </td><td> 9</td><td>13</td></tr>\n",
       "\t<tr><td>6 </td><td>10</td><td>14</td></tr>\n",
       "\t<tr><td>7 </td><td>11</td><td>15</td></tr>\n",
       "</tbody>\n",
       "</table>\n",
       "</li>\n",
       "\t<li><table>\n",
       "<tbody>\n",
       "\t<tr><td> 8</td><td> 8</td></tr>\n",
       "\t<tr><td> 9</td><td> 9</td></tr>\n",
       "\t<tr><td>10</td><td>10</td></tr>\n",
       "</tbody>\n",
       "</table>\n",
       "</li>\n",
       "</ol>\n"
      ],
      "text/latex": [
       "\\begin{enumerate}\n",
       "\\item \\begin{tabular}{lll}\n",
       "\t 1 & 4 & 7\\\\\n",
       "\t 2 & 5 & 8\\\\\n",
       "\t 3 & 6 & 9\\\\\n",
       "\\end{tabular}\n",
       "\n",
       "\\item \\begin{tabular}{lll}\n",
       "\t 4  &  8 & 12\\\\\n",
       "\t 5  &  9 & 13\\\\\n",
       "\t 6  & 10 & 14\\\\\n",
       "\t 7  & 11 & 15\\\\\n",
       "\\end{tabular}\n",
       "\n",
       "\\item \\begin{tabular}{ll}\n",
       "\t  8 &  8\\\\\n",
       "\t  9 &  9\\\\\n",
       "\t 10 & 10\\\\\n",
       "\\end{tabular}\n",
       "\n",
       "\\end{enumerate}\n"
      ],
      "text/markdown": [
       "1. \n",
       "| 1 | 4 | 7 | \n",
       "| 2 | 5 | 8 | \n",
       "| 3 | 6 | 9 | \n",
       "\n",
       "\n",
       "\n",
       "2. \n",
       "| 4  |  8 | 12 | \n",
       "| 5  |  9 | 13 | \n",
       "| 6  | 10 | 14 | \n",
       "| 7  | 11 | 15 | \n",
       "\n",
       "\n",
       "\n",
       "3. \n",
       "|  8 |  8 | \n",
       "|  9 |  9 | \n",
       "| 10 | 10 | \n",
       "\n",
       "\n",
       "\n",
       "\n",
       "\n"
      ],
      "text/plain": [
       "[[1]]\n",
       "     [,1] [,2] [,3]\n",
       "[1,]    1    4    7\n",
       "[2,]    2    5    8\n",
       "[3,]    3    6    9\n",
       "\n",
       "[[2]]\n",
       "     [,1] [,2] [,3]\n",
       "[1,]    4    8   12\n",
       "[2,]    5    9   13\n",
       "[3,]    6   10   14\n",
       "[4,]    7   11   15\n",
       "\n",
       "[[3]]\n",
       "     [,1] [,2]\n",
       "[1,]    8    8\n",
       "[2,]    9    9\n",
       "[3,]   10   10\n"
      ]
     },
     "metadata": {},
     "output_type": "display_data"
    }
   ],
   "source": [
    "MyList"
   ]
  },
  {
   "cell_type": "markdown",
   "metadata": {},
   "source": [
    "The empty space between the commas is because that's because where you'd say what row we want; \n",
    "here, we only want column"
   ]
  },
  {
   "cell_type": "code",
   "execution_count": 6,
   "metadata": {},
   "outputs": [
    {
     "data": {
      "text/html": [
       "<ol>\n",
       "\t<li><ol class=list-inline>\n",
       "\t<li>4</li>\n",
       "\t<li>5</li>\n",
       "\t<li>6</li>\n",
       "</ol>\n",
       "</li>\n",
       "\t<li><ol class=list-inline>\n",
       "\t<li>8</li>\n",
       "\t<li>9</li>\n",
       "\t<li>10</li>\n",
       "\t<li>11</li>\n",
       "</ol>\n",
       "</li>\n",
       "\t<li><ol class=list-inline>\n",
       "\t<li>8</li>\n",
       "\t<li>9</li>\n",
       "\t<li>10</li>\n",
       "</ol>\n",
       "</li>\n",
       "</ol>\n"
      ],
      "text/latex": [
       "\\begin{enumerate}\n",
       "\\item \\begin{enumerate*}\n",
       "\\item 4\n",
       "\\item 5\n",
       "\\item 6\n",
       "\\end{enumerate*}\n",
       "\n",
       "\\item \\begin{enumerate*}\n",
       "\\item 8\n",
       "\\item 9\n",
       "\\item 10\n",
       "\\item 11\n",
       "\\end{enumerate*}\n",
       "\n",
       "\\item \\begin{enumerate*}\n",
       "\\item 8\n",
       "\\item 9\n",
       "\\item 10\n",
       "\\end{enumerate*}\n",
       "\n",
       "\\end{enumerate}\n"
      ],
      "text/markdown": [
       "1. 1. 4\n",
       "2. 5\n",
       "3. 6\n",
       "\n",
       "\n",
       "\n",
       "2. 1. 8\n",
       "2. 9\n",
       "3. 10\n",
       "4. 11\n",
       "\n",
       "\n",
       "\n",
       "3. 1. 8\n",
       "2. 9\n",
       "3. 10\n",
       "\n",
       "\n",
       "\n",
       "\n",
       "\n"
      ],
      "text/plain": [
       "[[1]]\n",
       "[1] 4 5 6\n",
       "\n",
       "[[2]]\n",
       "[1]  8  9 10 11\n",
       "\n",
       "[[3]]\n",
       "[1]  8  9 10\n"
      ]
     },
     "metadata": {},
     "output_type": "display_data"
    }
   ],
   "source": [
    "lapply(MyList,\"[\", ,2)"
   ]
  },
  {
   "cell_type": "markdown",
   "metadata": {},
   "source": [
    "In this case we have selected a row, but we've left the column blank"
   ]
  },
  {
   "cell_type": "code",
   "execution_count": 7,
   "metadata": {},
   "outputs": [
    {
     "data": {
      "text/html": [
       "<ol>\n",
       "\t<li><ol class=list-inline>\n",
       "\t<li>1</li>\n",
       "\t<li>4</li>\n",
       "\t<li>7</li>\n",
       "</ol>\n",
       "</li>\n",
       "\t<li><ol class=list-inline>\n",
       "\t<li>4</li>\n",
       "\t<li>8</li>\n",
       "\t<li>12</li>\n",
       "</ol>\n",
       "</li>\n",
       "\t<li><ol class=list-inline>\n",
       "\t<li>8</li>\n",
       "\t<li>8</li>\n",
       "</ol>\n",
       "</li>\n",
       "</ol>\n"
      ],
      "text/latex": [
       "\\begin{enumerate}\n",
       "\\item \\begin{enumerate*}\n",
       "\\item 1\n",
       "\\item 4\n",
       "\\item 7\n",
       "\\end{enumerate*}\n",
       "\n",
       "\\item \\begin{enumerate*}\n",
       "\\item 4\n",
       "\\item 8\n",
       "\\item 12\n",
       "\\end{enumerate*}\n",
       "\n",
       "\\item \\begin{enumerate*}\n",
       "\\item 8\n",
       "\\item 8\n",
       "\\end{enumerate*}\n",
       "\n",
       "\\end{enumerate}\n"
      ],
      "text/markdown": [
       "1. 1. 1\n",
       "2. 4\n",
       "3. 7\n",
       "\n",
       "\n",
       "\n",
       "2. 1. 4\n",
       "2. 8\n",
       "3. 12\n",
       "\n",
       "\n",
       "\n",
       "3. 1. 8\n",
       "2. 8\n",
       "\n",
       "\n",
       "\n",
       "\n",
       "\n"
      ],
      "text/plain": [
       "[[1]]\n",
       "[1] 1 4 7\n",
       "\n",
       "[[2]]\n",
       "[1]  4  8 12\n",
       "\n",
       "[[3]]\n",
       "[1] 8 8\n"
      ]
     },
     "metadata": {},
     "output_type": "display_data"
    }
   ],
   "source": [
    "lapply(MyList, \"[\", 1, )"
   ]
  },
  {
   "cell_type": "markdown",
   "metadata": {},
   "source": [
    "#### sapply()\n",
    "\n",
    "The sapply() function works like lapply(), but it tries to simplify the output to the most elementary data structure that is possible. And indeed, sapply() is a ‘wrapper’ function for lapply()."
   ]
  },
  {
   "cell_type": "code",
   "execution_count": 8,
   "metadata": {},
   "outputs": [
    {
     "data": {
      "text/html": [
       "<ol>\n",
       "\t<li>2</li>\n",
       "\t<li>5</li>\n",
       "\t<li>9</li>\n",
       "</ol>\n"
      ],
      "text/latex": [
       "\\begin{enumerate}\n",
       "\\item 2\n",
       "\\item 5\n",
       "\\item 9\n",
       "\\end{enumerate}\n"
      ],
      "text/markdown": [
       "1. 2\n",
       "2. 5\n",
       "3. 9\n",
       "\n",
       "\n"
      ],
      "text/plain": [
       "[[1]]\n",
       "[1] 2\n",
       "\n",
       "[[2]]\n",
       "[1] 5\n",
       "\n",
       "[[3]]\n",
       "[1] 9\n"
      ]
     },
     "metadata": {},
     "output_type": "display_data"
    }
   ],
   "source": [
    "# Compare lapply() and sapply()\n",
    "\n",
    "lapply(MyList,\"[\", 2, 1 )"
   ]
  },
  {
   "cell_type": "code",
   "execution_count": 9,
   "metadata": {},
   "outputs": [
    {
     "data": {
      "text/html": [
       "'list'"
      ],
      "text/latex": [
       "'list'"
      ],
      "text/markdown": [
       "'list'"
      ],
      "text/plain": [
       "[1] \"list\""
      ]
     },
     "metadata": {},
     "output_type": "display_data"
    }
   ],
   "source": [
    "typeof(lapply(MyList,\"[\", 2, 1 ))"
   ]
  },
  {
   "cell_type": "code",
   "execution_count": 10,
   "metadata": {},
   "outputs": [
    {
     "data": {
      "text/html": [
       "<ol class=list-inline>\n",
       "\t<li>2</li>\n",
       "\t<li>5</li>\n",
       "\t<li>9</li>\n",
       "</ol>\n"
      ],
      "text/latex": [
       "\\begin{enumerate*}\n",
       "\\item 2\n",
       "\\item 5\n",
       "\\item 9\n",
       "\\end{enumerate*}\n"
      ],
      "text/markdown": [
       "1. 2\n",
       "2. 5\n",
       "3. 9\n",
       "\n",
       "\n"
      ],
      "text/plain": [
       "[1] 2 5 9"
      ]
     },
     "metadata": {},
     "output_type": "display_data"
    }
   ],
   "source": [
    "sapply(MyList, \"[\", 2, 1)"
   ]
  },
  {
   "cell_type": "code",
   "execution_count": 11,
   "metadata": {},
   "outputs": [
    {
     "data": {
      "text/html": [
       "'integer'"
      ],
      "text/latex": [
       "'integer'"
      ],
      "text/markdown": [
       "'integer'"
      ],
      "text/plain": [
       "[1] \"integer\""
      ]
     },
     "metadata": {},
     "output_type": "display_data"
    }
   ],
   "source": [
    "typeof(sapply(MyList, \"[\", 2, 1))"
   ]
  },
  {
   "cell_type": "code",
   "execution_count": 12,
   "metadata": {},
   "outputs": [
    {
     "data": {
      "text/html": [
       "<ol>\n",
       "\t<li>2</li>\n",
       "\t<li>5</li>\n",
       "\t<li>9</li>\n",
       "</ol>\n"
      ],
      "text/latex": [
       "\\begin{enumerate}\n",
       "\\item 2\n",
       "\\item 5\n",
       "\\item 9\n",
       "\\end{enumerate}\n"
      ],
      "text/markdown": [
       "1. 2\n",
       "2. 5\n",
       "3. 9\n",
       "\n",
       "\n"
      ],
      "text/plain": [
       "[[1]]\n",
       "[1] 2\n",
       "\n",
       "[[2]]\n",
       "[1] 5\n",
       "\n",
       "[[3]]\n",
       "[1] 9\n"
      ]
     },
     "metadata": {},
     "output_type": "display_data"
    }
   ],
   "source": [
    "# When simplify is FALSE behavious is as with lapply()\n",
    "\n",
    "sapply(MyList, \"[\", 2, 1, simplify = FALSE)"
   ]
  },
  {
   "cell_type": "markdown",
   "metadata": {},
   "source": [
    "Good article: https://www.r-bloggers.com/using-apply-sapply-lapply-in-r/. Implemented below:"
   ]
  },
  {
   "cell_type": "code",
   "execution_count": 13,
   "metadata": {},
   "outputs": [],
   "source": [
    "m <- matrix(data=cbind(rnorm(30, 0), rnorm(30, 2), rnorm(30, 5)), nrow=30, ncol=3)"
   ]
  },
  {
   "cell_type": "code",
   "execution_count": 14,
   "metadata": {},
   "outputs": [
    {
     "data": {
      "text/html": [
       "<table>\n",
       "<tbody>\n",
       "\t<tr><td> 0.71279691</td><td>1.51749294 </td><td>4.113684   </td></tr>\n",
       "\t<tr><td>-0.81720056</td><td>1.63225061 </td><td>4.208022   </td></tr>\n",
       "\t<tr><td> 0.46750026</td><td>0.49209897 </td><td>4.485332   </td></tr>\n",
       "\t<tr><td> 0.71779986</td><td>2.06275902 </td><td>4.970641   </td></tr>\n",
       "\t<tr><td> 1.17039595</td><td>3.03498602 </td><td>5.206474   </td></tr>\n",
       "\t<tr><td>-1.32376309</td><td>0.01582787 </td><td>3.653192   </td></tr>\n",
       "\t<tr><td> 0.45623360</td><td>1.97765534 </td><td>5.888694   </td></tr>\n",
       "\t<tr><td> 0.06133481</td><td>2.31621796 </td><td>3.933522   </td></tr>\n",
       "\t<tr><td>-0.92513310</td><td>3.79546636 </td><td>5.644410   </td></tr>\n",
       "\t<tr><td> 0.04869757</td><td>2.88742681 </td><td>4.862328   </td></tr>\n",
       "\t<tr><td>-0.46990818</td><td>3.00781731 </td><td>4.617315   </td></tr>\n",
       "\t<tr><td>-0.81899668</td><td>1.87115483 </td><td>5.068472   </td></tr>\n",
       "\t<tr><td>-0.71555208</td><td>0.75476431 </td><td>5.452665   </td></tr>\n",
       "\t<tr><td> 2.13848156</td><td>2.11389198 </td><td>5.677565   </td></tr>\n",
       "\t<tr><td> 0.10081462</td><td>2.23927145 </td><td>5.093619   </td></tr>\n",
       "\t<tr><td>-0.34841425</td><td>0.98664426 </td><td>4.115352   </td></tr>\n",
       "\t<tr><td> 0.74236139</td><td>3.77659246 </td><td>4.989279   </td></tr>\n",
       "\t<tr><td>-0.18010497</td><td>0.72671900 </td><td>7.086473   </td></tr>\n",
       "\t<tr><td>-0.82284605</td><td>1.61845811 </td><td>6.172139   </td></tr>\n",
       "\t<tr><td> 0.92636448</td><td>0.47655912 </td><td>6.024790   </td></tr>\n",
       "\t<tr><td>-0.14560437</td><td>1.61819898 </td><td>4.056185   </td></tr>\n",
       "\t<tr><td>-1.94686707</td><td>2.56573751 </td><td>2.928770   </td></tr>\n",
       "\t<tr><td>-0.44374362</td><td>1.68889650 </td><td>4.721460   </td></tr>\n",
       "\t<tr><td>-0.32420776</td><td>1.78320106 </td><td>3.104522   </td></tr>\n",
       "\t<tr><td>-0.93877949</td><td>1.70391621 </td><td>4.469461   </td></tr>\n",
       "\t<tr><td>-0.66477503</td><td>1.50792751 </td><td>7.067729   </td></tr>\n",
       "\t<tr><td>-0.68024846</td><td>1.85382201 </td><td>3.635512   </td></tr>\n",
       "\t<tr><td> 0.73053034</td><td>0.86812486 </td><td>4.687576   </td></tr>\n",
       "\t<tr><td>-2.24681493</td><td>0.88250009 </td><td>5.806628   </td></tr>\n",
       "\t<tr><td> 1.90369045</td><td>1.46317656 </td><td>4.849133   </td></tr>\n",
       "</tbody>\n",
       "</table>\n"
      ],
      "text/latex": [
       "\\begin{tabular}{lll}\n",
       "\t  0.71279691 & 1.51749294  & 4.113684   \\\\\n",
       "\t -0.81720056 & 1.63225061  & 4.208022   \\\\\n",
       "\t  0.46750026 & 0.49209897  & 4.485332   \\\\\n",
       "\t  0.71779986 & 2.06275902  & 4.970641   \\\\\n",
       "\t  1.17039595 & 3.03498602  & 5.206474   \\\\\n",
       "\t -1.32376309 & 0.01582787  & 3.653192   \\\\\n",
       "\t  0.45623360 & 1.97765534  & 5.888694   \\\\\n",
       "\t  0.06133481 & 2.31621796  & 3.933522   \\\\\n",
       "\t -0.92513310 & 3.79546636  & 5.644410   \\\\\n",
       "\t  0.04869757 & 2.88742681  & 4.862328   \\\\\n",
       "\t -0.46990818 & 3.00781731  & 4.617315   \\\\\n",
       "\t -0.81899668 & 1.87115483  & 5.068472   \\\\\n",
       "\t -0.71555208 & 0.75476431  & 5.452665   \\\\\n",
       "\t  2.13848156 & 2.11389198  & 5.677565   \\\\\n",
       "\t  0.10081462 & 2.23927145  & 5.093619   \\\\\n",
       "\t -0.34841425 & 0.98664426  & 4.115352   \\\\\n",
       "\t  0.74236139 & 3.77659246  & 4.989279   \\\\\n",
       "\t -0.18010497 & 0.72671900  & 7.086473   \\\\\n",
       "\t -0.82284605 & 1.61845811  & 6.172139   \\\\\n",
       "\t  0.92636448 & 0.47655912  & 6.024790   \\\\\n",
       "\t -0.14560437 & 1.61819898  & 4.056185   \\\\\n",
       "\t -1.94686707 & 2.56573751  & 2.928770   \\\\\n",
       "\t -0.44374362 & 1.68889650  & 4.721460   \\\\\n",
       "\t -0.32420776 & 1.78320106  & 3.104522   \\\\\n",
       "\t -0.93877949 & 1.70391621  & 4.469461   \\\\\n",
       "\t -0.66477503 & 1.50792751  & 7.067729   \\\\\n",
       "\t -0.68024846 & 1.85382201  & 3.635512   \\\\\n",
       "\t  0.73053034 & 0.86812486  & 4.687576   \\\\\n",
       "\t -2.24681493 & 0.88250009  & 5.806628   \\\\\n",
       "\t  1.90369045 & 1.46317656  & 4.849133   \\\\\n",
       "\\end{tabular}\n"
      ],
      "text/markdown": [
       "\n",
       "|  0.71279691 | 1.51749294  | 4.113684    | \n",
       "| -0.81720056 | 1.63225061  | 4.208022    | \n",
       "|  0.46750026 | 0.49209897  | 4.485332    | \n",
       "|  0.71779986 | 2.06275902  | 4.970641    | \n",
       "|  1.17039595 | 3.03498602  | 5.206474    | \n",
       "| -1.32376309 | 0.01582787  | 3.653192    | \n",
       "|  0.45623360 | 1.97765534  | 5.888694    | \n",
       "|  0.06133481 | 2.31621796  | 3.933522    | \n",
       "| -0.92513310 | 3.79546636  | 5.644410    | \n",
       "|  0.04869757 | 2.88742681  | 4.862328    | \n",
       "| -0.46990818 | 3.00781731  | 4.617315    | \n",
       "| -0.81899668 | 1.87115483  | 5.068472    | \n",
       "| -0.71555208 | 0.75476431  | 5.452665    | \n",
       "|  2.13848156 | 2.11389198  | 5.677565    | \n",
       "|  0.10081462 | 2.23927145  | 5.093619    | \n",
       "| -0.34841425 | 0.98664426  | 4.115352    | \n",
       "|  0.74236139 | 3.77659246  | 4.989279    | \n",
       "| -0.18010497 | 0.72671900  | 7.086473    | \n",
       "| -0.82284605 | 1.61845811  | 6.172139    | \n",
       "|  0.92636448 | 0.47655912  | 6.024790    | \n",
       "| -0.14560437 | 1.61819898  | 4.056185    | \n",
       "| -1.94686707 | 2.56573751  | 2.928770    | \n",
       "| -0.44374362 | 1.68889650  | 4.721460    | \n",
       "| -0.32420776 | 1.78320106  | 3.104522    | \n",
       "| -0.93877949 | 1.70391621  | 4.469461    | \n",
       "| -0.66477503 | 1.50792751  | 7.067729    | \n",
       "| -0.68024846 | 1.85382201  | 3.635512    | \n",
       "|  0.73053034 | 0.86812486  | 4.687576    | \n",
       "| -2.24681493 | 0.88250009  | 5.806628    | \n",
       "|  1.90369045 | 1.46317656  | 4.849133    | \n",
       "\n",
       "\n"
      ],
      "text/plain": [
       "      [,1]        [,2]       [,3]    \n",
       " [1,]  0.71279691 1.51749294 4.113684\n",
       " [2,] -0.81720056 1.63225061 4.208022\n",
       " [3,]  0.46750026 0.49209897 4.485332\n",
       " [4,]  0.71779986 2.06275902 4.970641\n",
       " [5,]  1.17039595 3.03498602 5.206474\n",
       " [6,] -1.32376309 0.01582787 3.653192\n",
       " [7,]  0.45623360 1.97765534 5.888694\n",
       " [8,]  0.06133481 2.31621796 3.933522\n",
       " [9,] -0.92513310 3.79546636 5.644410\n",
       "[10,]  0.04869757 2.88742681 4.862328\n",
       "[11,] -0.46990818 3.00781731 4.617315\n",
       "[12,] -0.81899668 1.87115483 5.068472\n",
       "[13,] -0.71555208 0.75476431 5.452665\n",
       "[14,]  2.13848156 2.11389198 5.677565\n",
       "[15,]  0.10081462 2.23927145 5.093619\n",
       "[16,] -0.34841425 0.98664426 4.115352\n",
       "[17,]  0.74236139 3.77659246 4.989279\n",
       "[18,] -0.18010497 0.72671900 7.086473\n",
       "[19,] -0.82284605 1.61845811 6.172139\n",
       "[20,]  0.92636448 0.47655912 6.024790\n",
       "[21,] -0.14560437 1.61819898 4.056185\n",
       "[22,] -1.94686707 2.56573751 2.928770\n",
       "[23,] -0.44374362 1.68889650 4.721460\n",
       "[24,] -0.32420776 1.78320106 3.104522\n",
       "[25,] -0.93877949 1.70391621 4.469461\n",
       "[26,] -0.66477503 1.50792751 7.067729\n",
       "[27,] -0.68024846 1.85382201 3.635512\n",
       "[28,]  0.73053034 0.86812486 4.687576\n",
       "[29,] -2.24681493 0.88250009 5.806628\n",
       "[30,]  1.90369045 1.46317656 4.849133"
      ]
     },
     "metadata": {},
     "output_type": "display_data"
    }
   ],
   "source": [
    "m"
   ]
  },
  {
   "cell_type": "code",
   "execution_count": 15,
   "metadata": {},
   "outputs": [
    {
     "data": {
      "text/html": [
       "<ol class=list-inline>\n",
       "\t<li>-0.121198596178382</li>\n",
       "\t<li>1.77465186791926</li>\n",
       "\t<li>4.88636486209608</li>\n",
       "</ol>\n"
      ],
      "text/latex": [
       "\\begin{enumerate*}\n",
       "\\item -0.121198596178382\n",
       "\\item 1.77465186791926\n",
       "\\item 4.88636486209608\n",
       "\\end{enumerate*}\n"
      ],
      "text/markdown": [
       "1. -0.121198596178382\n",
       "2. 1.77465186791926\n",
       "3. 4.88636486209608\n",
       "\n",
       "\n"
      ],
      "text/plain": [
       "[1] -0.1211986  1.7746519  4.8863649"
      ]
     },
     "metadata": {},
     "output_type": "display_data"
    }
   ],
   "source": [
    "apply(m, 2, mean)"
   ]
  },
  {
   "cell_type": "code",
   "execution_count": 16,
   "metadata": {},
   "outputs": [
    {
     "data": {
      "text/html": [
       "<ol class=list-inline>\n",
       "\t<li>17</li>\n",
       "\t<li>0</li>\n",
       "\t<li>0</li>\n",
       "</ol>\n"
      ],
      "text/latex": [
       "\\begin{enumerate*}\n",
       "\\item 17\n",
       "\\item 0\n",
       "\\item 0\n",
       "\\end{enumerate*}\n"
      ],
      "text/markdown": [
       "1. 17\n",
       "2. 0\n",
       "3. 0\n",
       "\n",
       "\n"
      ],
      "text/plain": [
       "[1] 17  0  0"
      ]
     },
     "metadata": {},
     "output_type": "display_data"
    }
   ],
   "source": [
    "apply(m, 2, function(x) length(x[x<0]))"
   ]
  },
  {
   "cell_type": "markdown",
   "metadata": {},
   "source": [
    "Here the function definition is not required, we could instead just pass the is.vector function, as it only takes one argument and has already been wrapped up in a function for us. Let’s check they are vectors as we might expect."
   ]
  },
  {
   "cell_type": "code",
   "execution_count": 17,
   "metadata": {},
   "outputs": [
    {
     "data": {
      "text/html": [
       "<ol class=list-inline>\n",
       "\t<li>TRUE</li>\n",
       "\t<li>TRUE</li>\n",
       "\t<li>TRUE</li>\n",
       "</ol>\n"
      ],
      "text/latex": [
       "\\begin{enumerate*}\n",
       "\\item TRUE\n",
       "\\item TRUE\n",
       "\\item TRUE\n",
       "\\end{enumerate*}\n"
      ],
      "text/markdown": [
       "1. TRUE\n",
       "2. TRUE\n",
       "3. TRUE\n",
       "\n",
       "\n"
      ],
      "text/plain": [
       "[1] TRUE TRUE TRUE"
      ]
     },
     "metadata": {},
     "output_type": "display_data"
    }
   ],
   "source": [
    "apply(m, 2, is.vector) == apply(m, 2, function(x) is.vector(x))"
   ]
  },
  {
   "cell_type": "markdown",
   "metadata": {},
   "source": [
    "Why then did we need to wrap up our length function? When we want to define our own handling function for apply, we must at a minimum give a name to the incoming data, so we can use it in our function."
   ]
  },
  {
   "cell_type": "code",
   "execution_count": 19,
   "metadata": {},
   "outputs": [
    {
     "ename": "ERROR",
     "evalue": "Error in match.fun(FUN): object 'x' not found\n",
     "output_type": "error",
     "traceback": [
      "Error in match.fun(FUN): object 'x' not found\nTraceback:\n",
      "1. apply(m, 2, length(x[x < 0]))",
      "2. match.fun(FUN)"
     ]
    }
   ],
   "source": [
    "# This will break\n",
    "\n",
    "apply(m, 2, length(x[x<0]))"
   ]
  },
  {
   "cell_type": "code",
   "execution_count": 20,
   "metadata": {},
   "outputs": [
    {
     "data": {
      "text/html": [
       "<ol class=list-inline>\n",
       "\t<li>0.782846292528011</li>\n",
       "\t<li>1.77465186791926</li>\n",
       "\t<li>4.88636486209608</li>\n",
       "</ol>\n"
      ],
      "text/latex": [
       "\\begin{enumerate*}\n",
       "\\item 0.782846292528011\n",
       "\\item 1.77465186791926\n",
       "\\item 4.88636486209608\n",
       "\\end{enumerate*}\n"
      ],
      "text/markdown": [
       "1. 0.782846292528011\n",
       "2. 1.77465186791926\n",
       "3. 4.88636486209608\n",
       "\n",
       "\n"
      ],
      "text/plain": [
       "[1] 0.7828463 1.7746519 4.8863649"
      ]
     },
     "metadata": {},
     "output_type": "display_data"
    }
   ],
   "source": [
    "apply(m, 2, function(x) mean(x[x>0]))"
   ]
  },
  {
   "cell_type": "markdown",
   "metadata": {},
   "source": [
    "Some of the other functions:"
   ]
  },
  {
   "cell_type": "code",
   "execution_count": 21,
   "metadata": {},
   "outputs": [
    {
     "data": {
      "text/html": [
       "<ol class=list-inline>\n",
       "\t<li>1</li>\n",
       "\t<li>4</li>\n",
       "\t<li>9</li>\n",
       "</ol>\n"
      ],
      "text/latex": [
       "\\begin{enumerate*}\n",
       "\\item 1\n",
       "\\item 4\n",
       "\\item 9\n",
       "\\end{enumerate*}\n"
      ],
      "text/markdown": [
       "1. 1\n",
       "2. 4\n",
       "3. 9\n",
       "\n",
       "\n"
      ],
      "text/plain": [
       "[1] 1 4 9"
      ]
     },
     "metadata": {},
     "output_type": "display_data"
    }
   ],
   "source": [
    "sapply(1:3, function(x) x^2)"
   ]
  },
  {
   "cell_type": "code",
   "execution_count": 22,
   "metadata": {},
   "outputs": [
    {
     "data": {
      "text/html": [
       "<ol>\n",
       "\t<li>1</li>\n",
       "\t<li>4</li>\n",
       "\t<li>9</li>\n",
       "</ol>\n"
      ],
      "text/latex": [
       "\\begin{enumerate}\n",
       "\\item 1\n",
       "\\item 4\n",
       "\\item 9\n",
       "\\end{enumerate}\n"
      ],
      "text/markdown": [
       "1. 1\n",
       "2. 4\n",
       "3. 9\n",
       "\n",
       "\n"
      ],
      "text/plain": [
       "[[1]]\n",
       "[1] 1\n",
       "\n",
       "[[2]]\n",
       "[1] 4\n",
       "\n",
       "[[3]]\n",
       "[1] 9\n"
      ]
     },
     "metadata": {},
     "output_type": "display_data"
    }
   ],
   "source": [
    "lapply(1:3, function(x) x^2)"
   ]
  },
  {
   "cell_type": "code",
   "execution_count": 23,
   "metadata": {},
   "outputs": [
    {
     "data": {
      "text/html": [
       "<ol>\n",
       "\t<li>1</li>\n",
       "\t<li>4</li>\n",
       "\t<li>9</li>\n",
       "</ol>\n"
      ],
      "text/latex": [
       "\\begin{enumerate}\n",
       "\\item 1\n",
       "\\item 4\n",
       "\\item 9\n",
       "\\end{enumerate}\n"
      ],
      "text/markdown": [
       "1. 1\n",
       "2. 4\n",
       "3. 9\n",
       "\n",
       "\n"
      ],
      "text/plain": [
       "[[1]]\n",
       "[1] 1\n",
       "\n",
       "[[2]]\n",
       "[1] 4\n",
       "\n",
       "[[3]]\n",
       "[1] 9\n"
      ]
     },
     "metadata": {},
     "output_type": "display_data"
    }
   ],
   "source": [
    "sapply(1:3, function(x) x^2, simplify=F)"
   ]
  },
  {
   "cell_type": "code",
   "execution_count": 24,
   "metadata": {},
   "outputs": [
    {
     "data": {
      "text/html": [
       "<ol class=list-inline>\n",
       "\t<li>1</li>\n",
       "\t<li>4</li>\n",
       "\t<li>9</li>\n",
       "</ol>\n"
      ],
      "text/latex": [
       "\\begin{enumerate*}\n",
       "\\item 1\n",
       "\\item 4\n",
       "\\item 9\n",
       "\\end{enumerate*}\n"
      ],
      "text/markdown": [
       "1. 1\n",
       "2. 4\n",
       "3. 9\n",
       "\n",
       "\n"
      ],
      "text/plain": [
       "[1] 1 4 9"
      ]
     },
     "metadata": {},
     "output_type": "display_data"
    }
   ],
   "source": [
    "unlist(lapply(1:3, function(x) x^2))"
   ]
  },
  {
   "cell_type": "code",
   "execution_count": 25,
   "metadata": {},
   "outputs": [
    {
     "data": {
      "text/html": [
       "'double'"
      ],
      "text/latex": [
       "'double'"
      ],
      "text/markdown": [
       "'double'"
      ],
      "text/plain": [
       "[1] \"double\""
      ]
     },
     "metadata": {},
     "output_type": "display_data"
    }
   ],
   "source": [
    "# This is apparently a vector\n",
    "\n",
    "typeof(unlist(lapply(1:3, function(x) x^2)))"
   ]
  },
  {
   "cell_type": "markdown",
   "metadata": {},
   "source": [
    "#### In sum:\n",
    "\n",
    "apply : used with matrices, and gives back matrices or vectors \n",
    "\n",
    "sapply : takes vectors, and gives back vectors\n",
    "\n",
    "lapply : takes vectors/lists, and gives back a list"
   ]
  },
  {
   "cell_type": "code",
   "execution_count": 26,
   "metadata": {},
   "outputs": [],
   "source": [
    "add2 <- function(x) {\n",
    "    x + 2\n",
    "}"
   ]
  },
  {
   "cell_type": "code",
   "execution_count": 27,
   "metadata": {},
   "outputs": [
    {
     "data": {
      "text/html": [
       "<ol>\n",
       "\t<li>3</li>\n",
       "\t<li>4</li>\n",
       "\t<li>5</li>\n",
       "\t<li>6</li>\n",
       "\t<li>7</li>\n",
       "\t<li>8</li>\n",
       "\t<li>9</li>\n",
       "\t<li>10</li>\n",
       "\t<li>11</li>\n",
       "\t<li>12</li>\n",
       "</ol>\n"
      ],
      "text/latex": [
       "\\begin{enumerate}\n",
       "\\item 3\n",
       "\\item 4\n",
       "\\item 5\n",
       "\\item 6\n",
       "\\item 7\n",
       "\\item 8\n",
       "\\item 9\n",
       "\\item 10\n",
       "\\item 11\n",
       "\\item 12\n",
       "\\end{enumerate}\n"
      ],
      "text/markdown": [
       "1. 3\n",
       "2. 4\n",
       "3. 5\n",
       "4. 6\n",
       "5. 7\n",
       "6. 8\n",
       "7. 9\n",
       "8. 10\n",
       "9. 11\n",
       "10. 12\n",
       "\n",
       "\n"
      ],
      "text/plain": [
       "[[1]]\n",
       "[1] 3\n",
       "\n",
       "[[2]]\n",
       "[1] 4\n",
       "\n",
       "[[3]]\n",
       "[1] 5\n",
       "\n",
       "[[4]]\n",
       "[1] 6\n",
       "\n",
       "[[5]]\n",
       "[1] 7\n",
       "\n",
       "[[6]]\n",
       "[1] 8\n",
       "\n",
       "[[7]]\n",
       "[1] 9\n",
       "\n",
       "[[8]]\n",
       "[1] 10\n",
       "\n",
       "[[9]]\n",
       "[1] 11\n",
       "\n",
       "[[10]]\n",
       "[1] 12\n"
      ]
     },
     "metadata": {},
     "output_type": "display_data"
    }
   ],
   "source": [
    "v <- seq(1:10) \n",
    "lapply(X = v, FUN = add2)"
   ]
  },
  {
   "cell_type": "code",
   "execution_count": 28,
   "metadata": {},
   "outputs": [
    {
     "data": {
      "text/html": [
       "<table>\n",
       "<tbody>\n",
       "\t<tr><td> 0.71279691</td><td>1.51749294 </td><td>4.113684   </td></tr>\n",
       "\t<tr><td>-0.81720056</td><td>1.63225061 </td><td>4.208022   </td></tr>\n",
       "\t<tr><td> 0.46750026</td><td>0.49209897 </td><td>4.485332   </td></tr>\n",
       "\t<tr><td> 0.71779986</td><td>2.06275902 </td><td>4.970641   </td></tr>\n",
       "\t<tr><td> 1.17039595</td><td>3.03498602 </td><td>5.206474   </td></tr>\n",
       "\t<tr><td>-1.32376309</td><td>0.01582787 </td><td>3.653192   </td></tr>\n",
       "\t<tr><td> 0.45623360</td><td>1.97765534 </td><td>5.888694   </td></tr>\n",
       "\t<tr><td> 0.06133481</td><td>2.31621796 </td><td>3.933522   </td></tr>\n",
       "\t<tr><td>-0.92513310</td><td>3.79546636 </td><td>5.644410   </td></tr>\n",
       "\t<tr><td> 0.04869757</td><td>2.88742681 </td><td>4.862328   </td></tr>\n",
       "\t<tr><td>-0.46990818</td><td>3.00781731 </td><td>4.617315   </td></tr>\n",
       "\t<tr><td>-0.81899668</td><td>1.87115483 </td><td>5.068472   </td></tr>\n",
       "\t<tr><td>-0.71555208</td><td>0.75476431 </td><td>5.452665   </td></tr>\n",
       "\t<tr><td> 2.13848156</td><td>2.11389198 </td><td>5.677565   </td></tr>\n",
       "\t<tr><td> 0.10081462</td><td>2.23927145 </td><td>5.093619   </td></tr>\n",
       "\t<tr><td>-0.34841425</td><td>0.98664426 </td><td>4.115352   </td></tr>\n",
       "\t<tr><td> 0.74236139</td><td>3.77659246 </td><td>4.989279   </td></tr>\n",
       "\t<tr><td>-0.18010497</td><td>0.72671900 </td><td>7.086473   </td></tr>\n",
       "\t<tr><td>-0.82284605</td><td>1.61845811 </td><td>6.172139   </td></tr>\n",
       "\t<tr><td> 0.92636448</td><td>0.47655912 </td><td>6.024790   </td></tr>\n",
       "\t<tr><td>-0.14560437</td><td>1.61819898 </td><td>4.056185   </td></tr>\n",
       "\t<tr><td>-1.94686707</td><td>2.56573751 </td><td>2.928770   </td></tr>\n",
       "\t<tr><td>-0.44374362</td><td>1.68889650 </td><td>4.721460   </td></tr>\n",
       "\t<tr><td>-0.32420776</td><td>1.78320106 </td><td>3.104522   </td></tr>\n",
       "\t<tr><td>-0.93877949</td><td>1.70391621 </td><td>4.469461   </td></tr>\n",
       "\t<tr><td>-0.66477503</td><td>1.50792751 </td><td>7.067729   </td></tr>\n",
       "\t<tr><td>-0.68024846</td><td>1.85382201 </td><td>3.635512   </td></tr>\n",
       "\t<tr><td> 0.73053034</td><td>0.86812486 </td><td>4.687576   </td></tr>\n",
       "\t<tr><td>-2.24681493</td><td>0.88250009 </td><td>5.806628   </td></tr>\n",
       "\t<tr><td> 1.90369045</td><td>1.46317656 </td><td>4.849133   </td></tr>\n",
       "</tbody>\n",
       "</table>\n"
      ],
      "text/latex": [
       "\\begin{tabular}{lll}\n",
       "\t  0.71279691 & 1.51749294  & 4.113684   \\\\\n",
       "\t -0.81720056 & 1.63225061  & 4.208022   \\\\\n",
       "\t  0.46750026 & 0.49209897  & 4.485332   \\\\\n",
       "\t  0.71779986 & 2.06275902  & 4.970641   \\\\\n",
       "\t  1.17039595 & 3.03498602  & 5.206474   \\\\\n",
       "\t -1.32376309 & 0.01582787  & 3.653192   \\\\\n",
       "\t  0.45623360 & 1.97765534  & 5.888694   \\\\\n",
       "\t  0.06133481 & 2.31621796  & 3.933522   \\\\\n",
       "\t -0.92513310 & 3.79546636  & 5.644410   \\\\\n",
       "\t  0.04869757 & 2.88742681  & 4.862328   \\\\\n",
       "\t -0.46990818 & 3.00781731  & 4.617315   \\\\\n",
       "\t -0.81899668 & 1.87115483  & 5.068472   \\\\\n",
       "\t -0.71555208 & 0.75476431  & 5.452665   \\\\\n",
       "\t  2.13848156 & 2.11389198  & 5.677565   \\\\\n",
       "\t  0.10081462 & 2.23927145  & 5.093619   \\\\\n",
       "\t -0.34841425 & 0.98664426  & 4.115352   \\\\\n",
       "\t  0.74236139 & 3.77659246  & 4.989279   \\\\\n",
       "\t -0.18010497 & 0.72671900  & 7.086473   \\\\\n",
       "\t -0.82284605 & 1.61845811  & 6.172139   \\\\\n",
       "\t  0.92636448 & 0.47655912  & 6.024790   \\\\\n",
       "\t -0.14560437 & 1.61819898  & 4.056185   \\\\\n",
       "\t -1.94686707 & 2.56573751  & 2.928770   \\\\\n",
       "\t -0.44374362 & 1.68889650  & 4.721460   \\\\\n",
       "\t -0.32420776 & 1.78320106  & 3.104522   \\\\\n",
       "\t -0.93877949 & 1.70391621  & 4.469461   \\\\\n",
       "\t -0.66477503 & 1.50792751  & 7.067729   \\\\\n",
       "\t -0.68024846 & 1.85382201  & 3.635512   \\\\\n",
       "\t  0.73053034 & 0.86812486  & 4.687576   \\\\\n",
       "\t -2.24681493 & 0.88250009  & 5.806628   \\\\\n",
       "\t  1.90369045 & 1.46317656  & 4.849133   \\\\\n",
       "\\end{tabular}\n"
      ],
      "text/markdown": [
       "\n",
       "|  0.71279691 | 1.51749294  | 4.113684    | \n",
       "| -0.81720056 | 1.63225061  | 4.208022    | \n",
       "|  0.46750026 | 0.49209897  | 4.485332    | \n",
       "|  0.71779986 | 2.06275902  | 4.970641    | \n",
       "|  1.17039595 | 3.03498602  | 5.206474    | \n",
       "| -1.32376309 | 0.01582787  | 3.653192    | \n",
       "|  0.45623360 | 1.97765534  | 5.888694    | \n",
       "|  0.06133481 | 2.31621796  | 3.933522    | \n",
       "| -0.92513310 | 3.79546636  | 5.644410    | \n",
       "|  0.04869757 | 2.88742681  | 4.862328    | \n",
       "| -0.46990818 | 3.00781731  | 4.617315    | \n",
       "| -0.81899668 | 1.87115483  | 5.068472    | \n",
       "| -0.71555208 | 0.75476431  | 5.452665    | \n",
       "|  2.13848156 | 2.11389198  | 5.677565    | \n",
       "|  0.10081462 | 2.23927145  | 5.093619    | \n",
       "| -0.34841425 | 0.98664426  | 4.115352    | \n",
       "|  0.74236139 | 3.77659246  | 4.989279    | \n",
       "| -0.18010497 | 0.72671900  | 7.086473    | \n",
       "| -0.82284605 | 1.61845811  | 6.172139    | \n",
       "|  0.92636448 | 0.47655912  | 6.024790    | \n",
       "| -0.14560437 | 1.61819898  | 4.056185    | \n",
       "| -1.94686707 | 2.56573751  | 2.928770    | \n",
       "| -0.44374362 | 1.68889650  | 4.721460    | \n",
       "| -0.32420776 | 1.78320106  | 3.104522    | \n",
       "| -0.93877949 | 1.70391621  | 4.469461    | \n",
       "| -0.66477503 | 1.50792751  | 7.067729    | \n",
       "| -0.68024846 | 1.85382201  | 3.635512    | \n",
       "|  0.73053034 | 0.86812486  | 4.687576    | \n",
       "| -2.24681493 | 0.88250009  | 5.806628    | \n",
       "|  1.90369045 | 1.46317656  | 4.849133    | \n",
       "\n",
       "\n"
      ],
      "text/plain": [
       "      [,1]        [,2]       [,3]    \n",
       " [1,]  0.71279691 1.51749294 4.113684\n",
       " [2,] -0.81720056 1.63225061 4.208022\n",
       " [3,]  0.46750026 0.49209897 4.485332\n",
       " [4,]  0.71779986 2.06275902 4.970641\n",
       " [5,]  1.17039595 3.03498602 5.206474\n",
       " [6,] -1.32376309 0.01582787 3.653192\n",
       " [7,]  0.45623360 1.97765534 5.888694\n",
       " [8,]  0.06133481 2.31621796 3.933522\n",
       " [9,] -0.92513310 3.79546636 5.644410\n",
       "[10,]  0.04869757 2.88742681 4.862328\n",
       "[11,] -0.46990818 3.00781731 4.617315\n",
       "[12,] -0.81899668 1.87115483 5.068472\n",
       "[13,] -0.71555208 0.75476431 5.452665\n",
       "[14,]  2.13848156 2.11389198 5.677565\n",
       "[15,]  0.10081462 2.23927145 5.093619\n",
       "[16,] -0.34841425 0.98664426 4.115352\n",
       "[17,]  0.74236139 3.77659246 4.989279\n",
       "[18,] -0.18010497 0.72671900 7.086473\n",
       "[19,] -0.82284605 1.61845811 6.172139\n",
       "[20,]  0.92636448 0.47655912 6.024790\n",
       "[21,] -0.14560437 1.61819898 4.056185\n",
       "[22,] -1.94686707 2.56573751 2.928770\n",
       "[23,] -0.44374362 1.68889650 4.721460\n",
       "[24,] -0.32420776 1.78320106 3.104522\n",
       "[25,] -0.93877949 1.70391621 4.469461\n",
       "[26,] -0.66477503 1.50792751 7.067729\n",
       "[27,] -0.68024846 1.85382201 3.635512\n",
       "[28,]  0.73053034 0.86812486 4.687576\n",
       "[29,] -2.24681493 0.88250009 5.806628\n",
       "[30,]  1.90369045 1.46317656 4.849133"
      ]
     },
     "metadata": {},
     "output_type": "display_data"
    }
   ],
   "source": [
    "m"
   ]
  },
  {
   "cell_type": "markdown",
   "metadata": {},
   "source": [
    "#### MARGIN\n",
    "a vector giving the subscripts which the function will be applied over. E.g., for a matrix 1 indicates rows, 2 indicates columns, c(1, 2) indicates rows and columns. Where X has named dimnames, it can be a character vector selecting dimension names."
   ]
  },
  {
   "cell_type": "code",
   "execution_count": 29,
   "metadata": {},
   "outputs": [
    {
     "data": {
      "text/html": [
       "<table>\n",
       "<tbody>\n",
       "\t<tr><td> 2.71279691</td><td>3.517493   </td><td>6.113684   </td></tr>\n",
       "\t<tr><td> 1.18279944</td><td>3.632251   </td><td>6.208022   </td></tr>\n",
       "\t<tr><td> 2.46750026</td><td>2.492099   </td><td>6.485332   </td></tr>\n",
       "\t<tr><td> 2.71779986</td><td>4.062759   </td><td>6.970641   </td></tr>\n",
       "\t<tr><td> 3.17039595</td><td>5.034986   </td><td>7.206474   </td></tr>\n",
       "\t<tr><td> 0.67623691</td><td>2.015828   </td><td>5.653192   </td></tr>\n",
       "\t<tr><td> 2.45623360</td><td>3.977655   </td><td>7.888694   </td></tr>\n",
       "\t<tr><td> 2.06133481</td><td>4.316218   </td><td>5.933522   </td></tr>\n",
       "\t<tr><td> 1.07486690</td><td>5.795466   </td><td>7.644410   </td></tr>\n",
       "\t<tr><td> 2.04869757</td><td>4.887427   </td><td>6.862328   </td></tr>\n",
       "\t<tr><td> 1.53009182</td><td>5.007817   </td><td>6.617315   </td></tr>\n",
       "\t<tr><td> 1.18100332</td><td>3.871155   </td><td>7.068472   </td></tr>\n",
       "\t<tr><td> 1.28444792</td><td>2.754764   </td><td>7.452665   </td></tr>\n",
       "\t<tr><td> 4.13848156</td><td>4.113892   </td><td>7.677565   </td></tr>\n",
       "\t<tr><td> 2.10081462</td><td>4.239271   </td><td>7.093619   </td></tr>\n",
       "\t<tr><td> 1.65158575</td><td>2.986644   </td><td>6.115352   </td></tr>\n",
       "\t<tr><td> 2.74236139</td><td>5.776592   </td><td>6.989279   </td></tr>\n",
       "\t<tr><td> 1.81989503</td><td>2.726719   </td><td>9.086473   </td></tr>\n",
       "\t<tr><td> 1.17715395</td><td>3.618458   </td><td>8.172139   </td></tr>\n",
       "\t<tr><td> 2.92636448</td><td>2.476559   </td><td>8.024790   </td></tr>\n",
       "\t<tr><td> 1.85439563</td><td>3.618199   </td><td>6.056185   </td></tr>\n",
       "\t<tr><td> 0.05313293</td><td>4.565738   </td><td>4.928770   </td></tr>\n",
       "\t<tr><td> 1.55625638</td><td>3.688897   </td><td>6.721460   </td></tr>\n",
       "\t<tr><td> 1.67579224</td><td>3.783201   </td><td>5.104522   </td></tr>\n",
       "\t<tr><td> 1.06122051</td><td>3.703916   </td><td>6.469461   </td></tr>\n",
       "\t<tr><td> 1.33522497</td><td>3.507928   </td><td>9.067729   </td></tr>\n",
       "\t<tr><td> 1.31975154</td><td>3.853822   </td><td>5.635512   </td></tr>\n",
       "\t<tr><td> 2.73053034</td><td>2.868125   </td><td>6.687576   </td></tr>\n",
       "\t<tr><td>-0.24681493</td><td>2.882500   </td><td>7.806628   </td></tr>\n",
       "\t<tr><td> 3.90369045</td><td>3.463177   </td><td>6.849133   </td></tr>\n",
       "</tbody>\n",
       "</table>\n"
      ],
      "text/latex": [
       "\\begin{tabular}{lll}\n",
       "\t  2.71279691 & 3.517493    & 6.113684   \\\\\n",
       "\t  1.18279944 & 3.632251    & 6.208022   \\\\\n",
       "\t  2.46750026 & 2.492099    & 6.485332   \\\\\n",
       "\t  2.71779986 & 4.062759    & 6.970641   \\\\\n",
       "\t  3.17039595 & 5.034986    & 7.206474   \\\\\n",
       "\t  0.67623691 & 2.015828    & 5.653192   \\\\\n",
       "\t  2.45623360 & 3.977655    & 7.888694   \\\\\n",
       "\t  2.06133481 & 4.316218    & 5.933522   \\\\\n",
       "\t  1.07486690 & 5.795466    & 7.644410   \\\\\n",
       "\t  2.04869757 & 4.887427    & 6.862328   \\\\\n",
       "\t  1.53009182 & 5.007817    & 6.617315   \\\\\n",
       "\t  1.18100332 & 3.871155    & 7.068472   \\\\\n",
       "\t  1.28444792 & 2.754764    & 7.452665   \\\\\n",
       "\t  4.13848156 & 4.113892    & 7.677565   \\\\\n",
       "\t  2.10081462 & 4.239271    & 7.093619   \\\\\n",
       "\t  1.65158575 & 2.986644    & 6.115352   \\\\\n",
       "\t  2.74236139 & 5.776592    & 6.989279   \\\\\n",
       "\t  1.81989503 & 2.726719    & 9.086473   \\\\\n",
       "\t  1.17715395 & 3.618458    & 8.172139   \\\\\n",
       "\t  2.92636448 & 2.476559    & 8.024790   \\\\\n",
       "\t  1.85439563 & 3.618199    & 6.056185   \\\\\n",
       "\t  0.05313293 & 4.565738    & 4.928770   \\\\\n",
       "\t  1.55625638 & 3.688897    & 6.721460   \\\\\n",
       "\t  1.67579224 & 3.783201    & 5.104522   \\\\\n",
       "\t  1.06122051 & 3.703916    & 6.469461   \\\\\n",
       "\t  1.33522497 & 3.507928    & 9.067729   \\\\\n",
       "\t  1.31975154 & 3.853822    & 5.635512   \\\\\n",
       "\t  2.73053034 & 2.868125    & 6.687576   \\\\\n",
       "\t -0.24681493 & 2.882500    & 7.806628   \\\\\n",
       "\t  3.90369045 & 3.463177    & 6.849133   \\\\\n",
       "\\end{tabular}\n"
      ],
      "text/markdown": [
       "\n",
       "|  2.71279691 | 3.517493    | 6.113684    | \n",
       "|  1.18279944 | 3.632251    | 6.208022    | \n",
       "|  2.46750026 | 2.492099    | 6.485332    | \n",
       "|  2.71779986 | 4.062759    | 6.970641    | \n",
       "|  3.17039595 | 5.034986    | 7.206474    | \n",
       "|  0.67623691 | 2.015828    | 5.653192    | \n",
       "|  2.45623360 | 3.977655    | 7.888694    | \n",
       "|  2.06133481 | 4.316218    | 5.933522    | \n",
       "|  1.07486690 | 5.795466    | 7.644410    | \n",
       "|  2.04869757 | 4.887427    | 6.862328    | \n",
       "|  1.53009182 | 5.007817    | 6.617315    | \n",
       "|  1.18100332 | 3.871155    | 7.068472    | \n",
       "|  1.28444792 | 2.754764    | 7.452665    | \n",
       "|  4.13848156 | 4.113892    | 7.677565    | \n",
       "|  2.10081462 | 4.239271    | 7.093619    | \n",
       "|  1.65158575 | 2.986644    | 6.115352    | \n",
       "|  2.74236139 | 5.776592    | 6.989279    | \n",
       "|  1.81989503 | 2.726719    | 9.086473    | \n",
       "|  1.17715395 | 3.618458    | 8.172139    | \n",
       "|  2.92636448 | 2.476559    | 8.024790    | \n",
       "|  1.85439563 | 3.618199    | 6.056185    | \n",
       "|  0.05313293 | 4.565738    | 4.928770    | \n",
       "|  1.55625638 | 3.688897    | 6.721460    | \n",
       "|  1.67579224 | 3.783201    | 5.104522    | \n",
       "|  1.06122051 | 3.703916    | 6.469461    | \n",
       "|  1.33522497 | 3.507928    | 9.067729    | \n",
       "|  1.31975154 | 3.853822    | 5.635512    | \n",
       "|  2.73053034 | 2.868125    | 6.687576    | \n",
       "| -0.24681493 | 2.882500    | 7.806628    | \n",
       "|  3.90369045 | 3.463177    | 6.849133    | \n",
       "\n",
       "\n"
      ],
      "text/plain": [
       "      [,1]        [,2]     [,3]    \n",
       " [1,]  2.71279691 3.517493 6.113684\n",
       " [2,]  1.18279944 3.632251 6.208022\n",
       " [3,]  2.46750026 2.492099 6.485332\n",
       " [4,]  2.71779986 4.062759 6.970641\n",
       " [5,]  3.17039595 5.034986 7.206474\n",
       " [6,]  0.67623691 2.015828 5.653192\n",
       " [7,]  2.45623360 3.977655 7.888694\n",
       " [8,]  2.06133481 4.316218 5.933522\n",
       " [9,]  1.07486690 5.795466 7.644410\n",
       "[10,]  2.04869757 4.887427 6.862328\n",
       "[11,]  1.53009182 5.007817 6.617315\n",
       "[12,]  1.18100332 3.871155 7.068472\n",
       "[13,]  1.28444792 2.754764 7.452665\n",
       "[14,]  4.13848156 4.113892 7.677565\n",
       "[15,]  2.10081462 4.239271 7.093619\n",
       "[16,]  1.65158575 2.986644 6.115352\n",
       "[17,]  2.74236139 5.776592 6.989279\n",
       "[18,]  1.81989503 2.726719 9.086473\n",
       "[19,]  1.17715395 3.618458 8.172139\n",
       "[20,]  2.92636448 2.476559 8.024790\n",
       "[21,]  1.85439563 3.618199 6.056185\n",
       "[22,]  0.05313293 4.565738 4.928770\n",
       "[23,]  1.55625638 3.688897 6.721460\n",
       "[24,]  1.67579224 3.783201 5.104522\n",
       "[25,]  1.06122051 3.703916 6.469461\n",
       "[26,]  1.33522497 3.507928 9.067729\n",
       "[27,]  1.31975154 3.853822 5.635512\n",
       "[28,]  2.73053034 2.868125 6.687576\n",
       "[29,] -0.24681493 2.882500 7.806628\n",
       "[30,]  3.90369045 3.463177 6.849133"
      ]
     },
     "metadata": {},
     "output_type": "display_data"
    }
   ],
   "source": [
    "apply(X = m, MARGIN = c(1, 2), FUN = add2)"
   ]
  },
  {
   "cell_type": "markdown",
   "metadata": {},
   "source": [
    "#### Playing with strings.."
   ]
  },
  {
   "cell_type": "code",
   "execution_count": 37,
   "metadata": {},
   "outputs": [],
   "source": [
    "str1 <- \"hey\"\n",
    "str2 <- \"yo\"\n",
    "str3 <- \"pal\""
   ]
  },
  {
   "cell_type": "code",
   "execution_count": 38,
   "metadata": {},
   "outputs": [
    {
     "data": {
      "text/html": [
       "'heyyo'"
      ],
      "text/latex": [
       "'heyyo'"
      ],
      "text/markdown": [
       "'heyyo'"
      ],
      "text/plain": [
       "[1] \"heyyo\""
      ]
     },
     "metadata": {},
     "output_type": "display_data"
    }
   ],
   "source": [
    "paste(str1, str2, sep = \"\")"
   ]
  },
  {
   "cell_type": "code",
   "execution_count": 39,
   "metadata": {},
   "outputs": [
    {
     "data": {
      "text/html": [
       "'heyyopal'"
      ],
      "text/latex": [
       "'heyyopal'"
      ],
      "text/markdown": [
       "'heyyopal'"
      ],
      "text/plain": [
       "[1] \"heyyopal\""
      ]
     },
     "metadata": {},
     "output_type": "display_data"
    }
   ],
   "source": [
    "paste0(str1, str2, str3)"
   ]
  },
  {
   "cell_type": "code",
   "execution_count": 40,
   "metadata": {},
   "outputs": [],
   "source": [
    "library(stringr)"
   ]
  },
  {
   "cell_type": "code",
   "execution_count": 42,
   "metadata": {},
   "outputs": [],
   "source": [
    "names <- c(\"Rossi\", \"John\", \"Sarah\", \"Celia\")"
   ]
  },
  {
   "cell_type": "code",
   "execution_count": 43,
   "metadata": {},
   "outputs": [
    {
     "data": {
      "text/html": [
       "<ol class=list-inline>\n",
       "\t<li>'s'</li>\n",
       "\t<li>'h'</li>\n",
       "\t<li>'r'</li>\n",
       "\t<li>'l'</li>\n",
       "</ol>\n"
      ],
      "text/latex": [
       "\\begin{enumerate*}\n",
       "\\item 's'\n",
       "\\item 'h'\n",
       "\\item 'r'\n",
       "\\item 'l'\n",
       "\\end{enumerate*}\n"
      ],
      "text/markdown": [
       "1. 's'\n",
       "2. 'h'\n",
       "3. 'r'\n",
       "4. 'l'\n",
       "\n",
       "\n"
      ],
      "text/plain": [
       "[1] \"s\" \"h\" \"r\" \"l\""
      ]
     },
     "metadata": {},
     "output_type": "display_data"
    }
   ],
   "source": [
    "str_sub(names, start = 3, end = 3)"
   ]
  },
  {
   "cell_type": "code",
   "execution_count": null,
   "metadata": {},
   "outputs": [],
   "source": []
  }
 ],
 "metadata": {
  "kernelspec": {
   "display_name": "R",
   "language": "R",
   "name": "ir"
  },
  "language_info": {
   "codemirror_mode": "r",
   "file_extension": ".r",
   "mimetype": "text/x-r-source",
   "name": "R",
   "pygments_lexer": "r",
   "version": "3.4.3"
  }
 },
 "nbformat": 4,
 "nbformat_minor": 2
}
