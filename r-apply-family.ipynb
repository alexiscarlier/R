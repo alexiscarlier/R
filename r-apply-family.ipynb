{
 "cells": [
  {
   "cell_type": "markdown",
   "metadata": {},
   "source": [
    "[from here https://www.datacamp.com/community/tutorials/r-tutorial-apply-family?utm_source=adwords_ppc&utm_campaignid=898687156&utm_adgroupid=48947256715&utm_device=c&utm_keyword=&utm_matchtype=b&utm_network=g&utm_adpostion=1t1&utm_creative=229765585186&utm_targetid=aud-299261629574:dsa-473406586995&utm_loc_interest_ms=&utm_loc_physical_ms=1006976&gclid=CjwKCAjwh9_bBRA_EiwApObaOBBBa3VQg2IdUyVeeI0gMPTVevVK_LBKtyEp6hDeKp0sWCwjgMKLORoCV2MQAvD_BwE#codelapplycode]\n",
    "\n",
    "These functions allow crossing the data in a number of ways and avoid explicit use of loop constructs. They act on an input list, matrix or array and apply a named function with one or several optional arguments.\n",
    "\n",
    "#### apply()"
   ]
  },
  {
   "cell_type": "code",
   "execution_count": 1,
   "metadata": {},
   "outputs": [],
   "source": [
    "X <- matrix(rnorm(30), nrow=5, ncol=6)"
   ]
  },
  {
   "cell_type": "code",
   "execution_count": 2,
   "metadata": {},
   "outputs": [
    {
     "data": {
      "text/html": [
       "<table>\n",
       "<tbody>\n",
       "\t<tr><td> 0.2734289</td><td>0.8387221 </td><td>-0.7864828</td><td> 0.3732844</td><td>-0.2974639</td><td>-0.7458732</td></tr>\n",
       "\t<tr><td> 0.7800701</td><td>0.3131216 </td><td>-0.3510538</td><td> 2.2020555</td><td> 0.0478064</td><td> 0.6605179</td></tr>\n",
       "\t<tr><td>-0.2644721</td><td>0.1483697 </td><td>-2.2204709</td><td> 0.6579581</td><td>-0.4106993</td><td>-0.5448800</td></tr>\n",
       "\t<tr><td>-0.8687482</td><td>0.8705984 </td><td> 0.7703488</td><td>-0.4113856</td><td> 0.7319545</td><td> 0.6594421</td></tr>\n",
       "\t<tr><td> 0.1025178</td><td>0.3612828 </td><td>-1.0280697</td><td>-0.5458293</td><td> 0.2098225</td><td>-0.4154092</td></tr>\n",
       "</tbody>\n",
       "</table>\n"
      ],
      "text/latex": [
       "\\begin{tabular}{llllll}\n",
       "\t  0.2734289 & 0.8387221  & -0.7864828 &  0.3732844 & -0.2974639 & -0.7458732\\\\\n",
       "\t  0.7800701 & 0.3131216  & -0.3510538 &  2.2020555 &  0.0478064 &  0.6605179\\\\\n",
       "\t -0.2644721 & 0.1483697  & -2.2204709 &  0.6579581 & -0.4106993 & -0.5448800\\\\\n",
       "\t -0.8687482 & 0.8705984  &  0.7703488 & -0.4113856 &  0.7319545 &  0.6594421\\\\\n",
       "\t  0.1025178 & 0.3612828  & -1.0280697 & -0.5458293 &  0.2098225 & -0.4154092\\\\\n",
       "\\end{tabular}\n"
      ],
      "text/markdown": [
       "\n",
       "|  0.2734289 | 0.8387221  | -0.7864828 |  0.3732844 | -0.2974639 | -0.7458732 | \n",
       "|  0.7800701 | 0.3131216  | -0.3510538 |  2.2020555 |  0.0478064 |  0.6605179 | \n",
       "| -0.2644721 | 0.1483697  | -2.2204709 |  0.6579581 | -0.4106993 | -0.5448800 | \n",
       "| -0.8687482 | 0.8705984  |  0.7703488 | -0.4113856 |  0.7319545 |  0.6594421 | \n",
       "|  0.1025178 | 0.3612828  | -1.0280697 | -0.5458293 |  0.2098225 | -0.4154092 | \n",
       "\n",
       "\n"
      ],
      "text/plain": [
       "     [,1]       [,2]      [,3]       [,4]       [,5]       [,6]      \n",
       "[1,]  0.2734289 0.8387221 -0.7864828  0.3732844 -0.2974639 -0.7458732\n",
       "[2,]  0.7800701 0.3131216 -0.3510538  2.2020555  0.0478064  0.6605179\n",
       "[3,] -0.2644721 0.1483697 -2.2204709  0.6579581 -0.4106993 -0.5448800\n",
       "[4,] -0.8687482 0.8705984  0.7703488 -0.4113856  0.7319545  0.6594421\n",
       "[5,]  0.1025178 0.3612828 -1.0280697 -0.5458293  0.2098225 -0.4154092"
      ]
     },
     "metadata": {},
     "output_type": "display_data"
    }
   ],
   "source": [
    "X"
   ]
  },
  {
   "cell_type": "code",
   "execution_count": 3,
   "metadata": {},
   "outputs": [
    {
     "data": {
      "text/html": [
       "<ol class=list-inline>\n",
       "\t<li>0.0227964423684371</li>\n",
       "\t<li>2.53209461478624</li>\n",
       "\t<li>-3.61572839329587</li>\n",
       "\t<li>2.27608311060095</li>\n",
       "\t<li>0.281420277910848</li>\n",
       "\t<li>-0.38620243526117</li>\n",
       "</ol>\n"
      ],
      "text/latex": [
       "\\begin{enumerate*}\n",
       "\\item 0.0227964423684371\n",
       "\\item 2.53209461478624\n",
       "\\item -3.61572839329587\n",
       "\\item 2.27608311060095\n",
       "\\item 0.281420277910848\n",
       "\\item -0.38620243526117\n",
       "\\end{enumerate*}\n"
      ],
      "text/markdown": [
       "1. 0.0227964423684371\n",
       "2. 2.53209461478624\n",
       "3. -3.61572839329587\n",
       "4. 2.27608311060095\n",
       "5. 0.281420277910848\n",
       "6. -0.38620243526117\n",
       "\n",
       "\n"
      ],
      "text/plain": [
       "[1]  0.02279644  2.53209461 -3.61572839  2.27608311  0.28142028 -0.38620244"
      ]
     },
     "metadata": {},
     "output_type": "display_data"
    }
   ],
   "source": [
    "apply(X, 2, sum)"
   ]
  },
  {
   "cell_type": "markdown",
   "metadata": {},
   "source": [
    "#### lapply()\n",
    "\n",
    "The difference from apply() is that:\n",
    "\n",
    "- It can be used for other objects like dataframes, lists or vectors; and\n",
    "- The output returned is a list (which explains the “l” in the function name), which has the same number of elements as the object passed to it."
   ]
  },
  {
   "cell_type": "code",
   "execution_count": 4,
   "metadata": {},
   "outputs": [],
   "source": [
    "A <- matrix(data = 1:9, nrow = 3, ncol = 3)\n",
    "B <- matrix(data = 4:15, nrow = 4, ncol = 3)\n",
    "C <- matrix(data = 8:10, nrow = 3, ncol = 2)\n",
    "\n",
    "MyList <- list(A, B, C)"
   ]
  },
  {
   "cell_type": "code",
   "execution_count": 5,
   "metadata": {},
   "outputs": [
    {
     "data": {
      "text/html": [
       "<ol>\n",
       "\t<li><table>\n",
       "<tbody>\n",
       "\t<tr><td>1</td><td>4</td><td>7</td></tr>\n",
       "\t<tr><td>2</td><td>5</td><td>8</td></tr>\n",
       "\t<tr><td>3</td><td>6</td><td>9</td></tr>\n",
       "</tbody>\n",
       "</table>\n",
       "</li>\n",
       "\t<li><table>\n",
       "<tbody>\n",
       "\t<tr><td>4 </td><td> 8</td><td>12</td></tr>\n",
       "\t<tr><td>5 </td><td> 9</td><td>13</td></tr>\n",
       "\t<tr><td>6 </td><td>10</td><td>14</td></tr>\n",
       "\t<tr><td>7 </td><td>11</td><td>15</td></tr>\n",
       "</tbody>\n",
       "</table>\n",
       "</li>\n",
       "\t<li><table>\n",
       "<tbody>\n",
       "\t<tr><td> 8</td><td> 8</td></tr>\n",
       "\t<tr><td> 9</td><td> 9</td></tr>\n",
       "\t<tr><td>10</td><td>10</td></tr>\n",
       "</tbody>\n",
       "</table>\n",
       "</li>\n",
       "</ol>\n"
      ],
      "text/latex": [
       "\\begin{enumerate}\n",
       "\\item \\begin{tabular}{lll}\n",
       "\t 1 & 4 & 7\\\\\n",
       "\t 2 & 5 & 8\\\\\n",
       "\t 3 & 6 & 9\\\\\n",
       "\\end{tabular}\n",
       "\n",
       "\\item \\begin{tabular}{lll}\n",
       "\t 4  &  8 & 12\\\\\n",
       "\t 5  &  9 & 13\\\\\n",
       "\t 6  & 10 & 14\\\\\n",
       "\t 7  & 11 & 15\\\\\n",
       "\\end{tabular}\n",
       "\n",
       "\\item \\begin{tabular}{ll}\n",
       "\t  8 &  8\\\\\n",
       "\t  9 &  9\\\\\n",
       "\t 10 & 10\\\\\n",
       "\\end{tabular}\n",
       "\n",
       "\\end{enumerate}\n"
      ],
      "text/markdown": [
       "1. \n",
       "| 1 | 4 | 7 | \n",
       "| 2 | 5 | 8 | \n",
       "| 3 | 6 | 9 | \n",
       "\n",
       "\n",
       "\n",
       "2. \n",
       "| 4  |  8 | 12 | \n",
       "| 5  |  9 | 13 | \n",
       "| 6  | 10 | 14 | \n",
       "| 7  | 11 | 15 | \n",
       "\n",
       "\n",
       "\n",
       "3. \n",
       "|  8 |  8 | \n",
       "|  9 |  9 | \n",
       "| 10 | 10 | \n",
       "\n",
       "\n",
       "\n",
       "\n",
       "\n"
      ],
      "text/plain": [
       "[[1]]\n",
       "     [,1] [,2] [,3]\n",
       "[1,]    1    4    7\n",
       "[2,]    2    5    8\n",
       "[3,]    3    6    9\n",
       "\n",
       "[[2]]\n",
       "     [,1] [,2] [,3]\n",
       "[1,]    4    8   12\n",
       "[2,]    5    9   13\n",
       "[3,]    6   10   14\n",
       "[4,]    7   11   15\n",
       "\n",
       "[[3]]\n",
       "     [,1] [,2]\n",
       "[1,]    8    8\n",
       "[2,]    9    9\n",
       "[3,]   10   10\n"
      ]
     },
     "metadata": {},
     "output_type": "display_data"
    }
   ],
   "source": [
    "MyList"
   ]
  },
  {
   "cell_type": "markdown",
   "metadata": {},
   "source": [
    "The empty space between the commas is because that's because where you'd say what row we want; \n",
    "here, we only want column"
   ]
  },
  {
   "cell_type": "code",
   "execution_count": 6,
   "metadata": {},
   "outputs": [
    {
     "data": {
      "text/html": [
       "<ol>\n",
       "\t<li><ol class=list-inline>\n",
       "\t<li>4</li>\n",
       "\t<li>5</li>\n",
       "\t<li>6</li>\n",
       "</ol>\n",
       "</li>\n",
       "\t<li><ol class=list-inline>\n",
       "\t<li>8</li>\n",
       "\t<li>9</li>\n",
       "\t<li>10</li>\n",
       "\t<li>11</li>\n",
       "</ol>\n",
       "</li>\n",
       "\t<li><ol class=list-inline>\n",
       "\t<li>8</li>\n",
       "\t<li>9</li>\n",
       "\t<li>10</li>\n",
       "</ol>\n",
       "</li>\n",
       "</ol>\n"
      ],
      "text/latex": [
       "\\begin{enumerate}\n",
       "\\item \\begin{enumerate*}\n",
       "\\item 4\n",
       "\\item 5\n",
       "\\item 6\n",
       "\\end{enumerate*}\n",
       "\n",
       "\\item \\begin{enumerate*}\n",
       "\\item 8\n",
       "\\item 9\n",
       "\\item 10\n",
       "\\item 11\n",
       "\\end{enumerate*}\n",
       "\n",
       "\\item \\begin{enumerate*}\n",
       "\\item 8\n",
       "\\item 9\n",
       "\\item 10\n",
       "\\end{enumerate*}\n",
       "\n",
       "\\end{enumerate}\n"
      ],
      "text/markdown": [
       "1. 1. 4\n",
       "2. 5\n",
       "3. 6\n",
       "\n",
       "\n",
       "\n",
       "2. 1. 8\n",
       "2. 9\n",
       "3. 10\n",
       "4. 11\n",
       "\n",
       "\n",
       "\n",
       "3. 1. 8\n",
       "2. 9\n",
       "3. 10\n",
       "\n",
       "\n",
       "\n",
       "\n",
       "\n"
      ],
      "text/plain": [
       "[[1]]\n",
       "[1] 4 5 6\n",
       "\n",
       "[[2]]\n",
       "[1]  8  9 10 11\n",
       "\n",
       "[[3]]\n",
       "[1]  8  9 10\n"
      ]
     },
     "metadata": {},
     "output_type": "display_data"
    }
   ],
   "source": [
    "lapply(MyList,\"[\", ,2)"
   ]
  },
  {
   "cell_type": "markdown",
   "metadata": {},
   "source": [
    "In this case we have selected a row, but we've left the column blank"
   ]
  },
  {
   "cell_type": "code",
   "execution_count": 7,
   "metadata": {},
   "outputs": [
    {
     "data": {
      "text/html": [
       "<ol>\n",
       "\t<li><ol class=list-inline>\n",
       "\t<li>1</li>\n",
       "\t<li>4</li>\n",
       "\t<li>7</li>\n",
       "</ol>\n",
       "</li>\n",
       "\t<li><ol class=list-inline>\n",
       "\t<li>4</li>\n",
       "\t<li>8</li>\n",
       "\t<li>12</li>\n",
       "</ol>\n",
       "</li>\n",
       "\t<li><ol class=list-inline>\n",
       "\t<li>8</li>\n",
       "\t<li>8</li>\n",
       "</ol>\n",
       "</li>\n",
       "</ol>\n"
      ],
      "text/latex": [
       "\\begin{enumerate}\n",
       "\\item \\begin{enumerate*}\n",
       "\\item 1\n",
       "\\item 4\n",
       "\\item 7\n",
       "\\end{enumerate*}\n",
       "\n",
       "\\item \\begin{enumerate*}\n",
       "\\item 4\n",
       "\\item 8\n",
       "\\item 12\n",
       "\\end{enumerate*}\n",
       "\n",
       "\\item \\begin{enumerate*}\n",
       "\\item 8\n",
       "\\item 8\n",
       "\\end{enumerate*}\n",
       "\n",
       "\\end{enumerate}\n"
      ],
      "text/markdown": [
       "1. 1. 1\n",
       "2. 4\n",
       "3. 7\n",
       "\n",
       "\n",
       "\n",
       "2. 1. 4\n",
       "2. 8\n",
       "3. 12\n",
       "\n",
       "\n",
       "\n",
       "3. 1. 8\n",
       "2. 8\n",
       "\n",
       "\n",
       "\n",
       "\n",
       "\n"
      ],
      "text/plain": [
       "[[1]]\n",
       "[1] 1 4 7\n",
       "\n",
       "[[2]]\n",
       "[1]  4  8 12\n",
       "\n",
       "[[3]]\n",
       "[1] 8 8\n"
      ]
     },
     "metadata": {},
     "output_type": "display_data"
    }
   ],
   "source": [
    "lapply(MyList, \"[\", 1, )"
   ]
  },
  {
   "cell_type": "markdown",
   "metadata": {},
   "source": [
    "#### sapply()\n",
    "\n",
    "The sapply() function works like lapply(), but it tries to simplify the output to the most elementary data structure that is possible. And indeed, sapply() is a ‘wrapper’ function for lapply()."
   ]
  },
  {
   "cell_type": "code",
   "execution_count": 8,
   "metadata": {},
   "outputs": [
    {
     "data": {
      "text/html": [
       "<ol>\n",
       "\t<li>2</li>\n",
       "\t<li>5</li>\n",
       "\t<li>9</li>\n",
       "</ol>\n"
      ],
      "text/latex": [
       "\\begin{enumerate}\n",
       "\\item 2\n",
       "\\item 5\n",
       "\\item 9\n",
       "\\end{enumerate}\n"
      ],
      "text/markdown": [
       "1. 2\n",
       "2. 5\n",
       "3. 9\n",
       "\n",
       "\n"
      ],
      "text/plain": [
       "[[1]]\n",
       "[1] 2\n",
       "\n",
       "[[2]]\n",
       "[1] 5\n",
       "\n",
       "[[3]]\n",
       "[1] 9\n"
      ]
     },
     "metadata": {},
     "output_type": "display_data"
    }
   ],
   "source": [
    "# Compare lapply() and sapply()\n",
    "\n",
    "lapply(MyList,\"[\", 2, 1 )"
   ]
  },
  {
   "cell_type": "code",
   "execution_count": 9,
   "metadata": {},
   "outputs": [
    {
     "data": {
      "text/html": [
       "'list'"
      ],
      "text/latex": [
       "'list'"
      ],
      "text/markdown": [
       "'list'"
      ],
      "text/plain": [
       "[1] \"list\""
      ]
     },
     "metadata": {},
     "output_type": "display_data"
    }
   ],
   "source": [
    "typeof(lapply(MyList,\"[\", 2, 1 ))"
   ]
  },
  {
   "cell_type": "code",
   "execution_count": 10,
   "metadata": {},
   "outputs": [
    {
     "data": {
      "text/html": [
       "<ol class=list-inline>\n",
       "\t<li>2</li>\n",
       "\t<li>5</li>\n",
       "\t<li>9</li>\n",
       "</ol>\n"
      ],
      "text/latex": [
       "\\begin{enumerate*}\n",
       "\\item 2\n",
       "\\item 5\n",
       "\\item 9\n",
       "\\end{enumerate*}\n"
      ],
      "text/markdown": [
       "1. 2\n",
       "2. 5\n",
       "3. 9\n",
       "\n",
       "\n"
      ],
      "text/plain": [
       "[1] 2 5 9"
      ]
     },
     "metadata": {},
     "output_type": "display_data"
    }
   ],
   "source": [
    "sapply(MyList, \"[\", 2, 1)"
   ]
  },
  {
   "cell_type": "code",
   "execution_count": 11,
   "metadata": {},
   "outputs": [
    {
     "data": {
      "text/html": [
       "'integer'"
      ],
      "text/latex": [
       "'integer'"
      ],
      "text/markdown": [
       "'integer'"
      ],
      "text/plain": [
       "[1] \"integer\""
      ]
     },
     "metadata": {},
     "output_type": "display_data"
    }
   ],
   "source": [
    "typeof(sapply(MyList, \"[\", 2, 1))"
   ]
  },
  {
   "cell_type": "code",
   "execution_count": 12,
   "metadata": {},
   "outputs": [
    {
     "data": {
      "text/html": [
       "<ol>\n",
       "\t<li>2</li>\n",
       "\t<li>5</li>\n",
       "\t<li>9</li>\n",
       "</ol>\n"
      ],
      "text/latex": [
       "\\begin{enumerate}\n",
       "\\item 2\n",
       "\\item 5\n",
       "\\item 9\n",
       "\\end{enumerate}\n"
      ],
      "text/markdown": [
       "1. 2\n",
       "2. 5\n",
       "3. 9\n",
       "\n",
       "\n"
      ],
      "text/plain": [
       "[[1]]\n",
       "[1] 2\n",
       "\n",
       "[[2]]\n",
       "[1] 5\n",
       "\n",
       "[[3]]\n",
       "[1] 9\n"
      ]
     },
     "metadata": {},
     "output_type": "display_data"
    }
   ],
   "source": [
    "# When simplify is FALSE behavious is as with lapply()\n",
    "\n",
    "sapply(MyList, \"[\", 2, 1, simplify = FALSE)"
   ]
  },
  {
   "cell_type": "markdown",
   "metadata": {},
   "source": [
    "Good article: https://www.r-bloggers.com/using-apply-sapply-lapply-in-r/. Implemented below:"
   ]
  },
  {
   "cell_type": "code",
   "execution_count": 30,
   "metadata": {},
   "outputs": [],
   "source": [
    "m <- matrix(data=cbind(rnorm(30, 0), rnorm(30, 2), rnorm(30, 5)), nrow=30, ncol=3)"
   ]
  },
  {
   "cell_type": "code",
   "execution_count": 31,
   "metadata": {},
   "outputs": [
    {
     "data": {
      "text/html": [
       "<table>\n",
       "<tbody>\n",
       "\t<tr><td>-0.87570370</td><td> 0.23236472</td><td>4.273751   </td></tr>\n",
       "\t<tr><td>-1.25728942</td><td> 1.29681482</td><td>4.900580   </td></tr>\n",
       "\t<tr><td>-1.31861507</td><td> 1.00354265</td><td>3.831502   </td></tr>\n",
       "\t<tr><td> 0.08881604</td><td> 0.35773992</td><td>3.041967   </td></tr>\n",
       "\t<tr><td>-0.73372043</td><td> 1.47315741</td><td>5.203949   </td></tr>\n",
       "\t<tr><td>-0.63420327</td><td> 3.60191845</td><td>4.650125   </td></tr>\n",
       "\t<tr><td> 1.79409248</td><td> 1.19269789</td><td>3.929694   </td></tr>\n",
       "\t<tr><td>-0.01757364</td><td> 1.20184233</td><td>5.716597   </td></tr>\n",
       "\t<tr><td>-1.24280260</td><td> 0.80799914</td><td>5.968494   </td></tr>\n",
       "\t<tr><td>-0.09169076</td><td> 2.32714697</td><td>5.734850   </td></tr>\n",
       "\t<tr><td>-0.09449910</td><td> 1.07425951</td><td>3.468177   </td></tr>\n",
       "\t<tr><td> 0.89129895</td><td> 1.79504141</td><td>3.585926   </td></tr>\n",
       "\t<tr><td>-0.89621167</td><td> 0.31407778</td><td>6.044757   </td></tr>\n",
       "\t<tr><td>-2.00313893</td><td> 4.15712490</td><td>5.802150   </td></tr>\n",
       "\t<tr><td> 0.02254884</td><td> 1.37395308</td><td>5.006723   </td></tr>\n",
       "\t<tr><td>-0.78382195</td><td> 0.02732178</td><td>3.699269   </td></tr>\n",
       "\t<tr><td>-0.25894664</td><td> 3.22730533</td><td>3.311673   </td></tr>\n",
       "\t<tr><td>-1.77794429</td><td> 1.77587398</td><td>6.411588   </td></tr>\n",
       "\t<tr><td>-0.85588453</td><td> 0.50165822</td><td>3.754188   </td></tr>\n",
       "\t<tr><td> 0.80347266</td><td> 2.48278422</td><td>6.099132   </td></tr>\n",
       "\t<tr><td> 1.29867444</td><td>-0.76546414</td><td>5.009939   </td></tr>\n",
       "\t<tr><td>-1.16812766</td><td> 2.13247865</td><td>4.948862   </td></tr>\n",
       "\t<tr><td> 0.37381898</td><td> 0.53735281</td><td>5.220974   </td></tr>\n",
       "\t<tr><td>-2.34619666</td><td> 1.73436960</td><td>5.348013   </td></tr>\n",
       "\t<tr><td>-0.64631839</td><td> 1.46928318</td><td>4.247506   </td></tr>\n",
       "\t<tr><td> 1.44765728</td><td> 0.47218755</td><td>7.268019   </td></tr>\n",
       "\t<tr><td> 0.03854257</td><td> 3.40143508</td><td>3.887112   </td></tr>\n",
       "\t<tr><td> 0.59751920</td><td> 2.34337239</td><td>3.634620   </td></tr>\n",
       "\t<tr><td>-0.28921647</td><td> 2.44802553</td><td>5.024519   </td></tr>\n",
       "\t<tr><td>-0.67095405</td><td> 2.03870845</td><td>6.060513   </td></tr>\n",
       "</tbody>\n",
       "</table>\n"
      ],
      "text/latex": [
       "\\begin{tabular}{lll}\n",
       "\t -0.87570370 &  0.23236472 & 4.273751   \\\\\n",
       "\t -1.25728942 &  1.29681482 & 4.900580   \\\\\n",
       "\t -1.31861507 &  1.00354265 & 3.831502   \\\\\n",
       "\t  0.08881604 &  0.35773992 & 3.041967   \\\\\n",
       "\t -0.73372043 &  1.47315741 & 5.203949   \\\\\n",
       "\t -0.63420327 &  3.60191845 & 4.650125   \\\\\n",
       "\t  1.79409248 &  1.19269789 & 3.929694   \\\\\n",
       "\t -0.01757364 &  1.20184233 & 5.716597   \\\\\n",
       "\t -1.24280260 &  0.80799914 & 5.968494   \\\\\n",
       "\t -0.09169076 &  2.32714697 & 5.734850   \\\\\n",
       "\t -0.09449910 &  1.07425951 & 3.468177   \\\\\n",
       "\t  0.89129895 &  1.79504141 & 3.585926   \\\\\n",
       "\t -0.89621167 &  0.31407778 & 6.044757   \\\\\n",
       "\t -2.00313893 &  4.15712490 & 5.802150   \\\\\n",
       "\t  0.02254884 &  1.37395308 & 5.006723   \\\\\n",
       "\t -0.78382195 &  0.02732178 & 3.699269   \\\\\n",
       "\t -0.25894664 &  3.22730533 & 3.311673   \\\\\n",
       "\t -1.77794429 &  1.77587398 & 6.411588   \\\\\n",
       "\t -0.85588453 &  0.50165822 & 3.754188   \\\\\n",
       "\t  0.80347266 &  2.48278422 & 6.099132   \\\\\n",
       "\t  1.29867444 & -0.76546414 & 5.009939   \\\\\n",
       "\t -1.16812766 &  2.13247865 & 4.948862   \\\\\n",
       "\t  0.37381898 &  0.53735281 & 5.220974   \\\\\n",
       "\t -2.34619666 &  1.73436960 & 5.348013   \\\\\n",
       "\t -0.64631839 &  1.46928318 & 4.247506   \\\\\n",
       "\t  1.44765728 &  0.47218755 & 7.268019   \\\\\n",
       "\t  0.03854257 &  3.40143508 & 3.887112   \\\\\n",
       "\t  0.59751920 &  2.34337239 & 3.634620   \\\\\n",
       "\t -0.28921647 &  2.44802553 & 5.024519   \\\\\n",
       "\t -0.67095405 &  2.03870845 & 6.060513   \\\\\n",
       "\\end{tabular}\n"
      ],
      "text/markdown": [
       "\n",
       "| -0.87570370 |  0.23236472 | 4.273751    | \n",
       "| -1.25728942 |  1.29681482 | 4.900580    | \n",
       "| -1.31861507 |  1.00354265 | 3.831502    | \n",
       "|  0.08881604 |  0.35773992 | 3.041967    | \n",
       "| -0.73372043 |  1.47315741 | 5.203949    | \n",
       "| -0.63420327 |  3.60191845 | 4.650125    | \n",
       "|  1.79409248 |  1.19269789 | 3.929694    | \n",
       "| -0.01757364 |  1.20184233 | 5.716597    | \n",
       "| -1.24280260 |  0.80799914 | 5.968494    | \n",
       "| -0.09169076 |  2.32714697 | 5.734850    | \n",
       "| -0.09449910 |  1.07425951 | 3.468177    | \n",
       "|  0.89129895 |  1.79504141 | 3.585926    | \n",
       "| -0.89621167 |  0.31407778 | 6.044757    | \n",
       "| -2.00313893 |  4.15712490 | 5.802150    | \n",
       "|  0.02254884 |  1.37395308 | 5.006723    | \n",
       "| -0.78382195 |  0.02732178 | 3.699269    | \n",
       "| -0.25894664 |  3.22730533 | 3.311673    | \n",
       "| -1.77794429 |  1.77587398 | 6.411588    | \n",
       "| -0.85588453 |  0.50165822 | 3.754188    | \n",
       "|  0.80347266 |  2.48278422 | 6.099132    | \n",
       "|  1.29867444 | -0.76546414 | 5.009939    | \n",
       "| -1.16812766 |  2.13247865 | 4.948862    | \n",
       "|  0.37381898 |  0.53735281 | 5.220974    | \n",
       "| -2.34619666 |  1.73436960 | 5.348013    | \n",
       "| -0.64631839 |  1.46928318 | 4.247506    | \n",
       "|  1.44765728 |  0.47218755 | 7.268019    | \n",
       "|  0.03854257 |  3.40143508 | 3.887112    | \n",
       "|  0.59751920 |  2.34337239 | 3.634620    | \n",
       "| -0.28921647 |  2.44802553 | 5.024519    | \n",
       "| -0.67095405 |  2.03870845 | 6.060513    | \n",
       "\n",
       "\n"
      ],
      "text/plain": [
       "      [,1]        [,2]        [,3]    \n",
       " [1,] -0.87570370  0.23236472 4.273751\n",
       " [2,] -1.25728942  1.29681482 4.900580\n",
       " [3,] -1.31861507  1.00354265 3.831502\n",
       " [4,]  0.08881604  0.35773992 3.041967\n",
       " [5,] -0.73372043  1.47315741 5.203949\n",
       " [6,] -0.63420327  3.60191845 4.650125\n",
       " [7,]  1.79409248  1.19269789 3.929694\n",
       " [8,] -0.01757364  1.20184233 5.716597\n",
       " [9,] -1.24280260  0.80799914 5.968494\n",
       "[10,] -0.09169076  2.32714697 5.734850\n",
       "[11,] -0.09449910  1.07425951 3.468177\n",
       "[12,]  0.89129895  1.79504141 3.585926\n",
       "[13,] -0.89621167  0.31407778 6.044757\n",
       "[14,] -2.00313893  4.15712490 5.802150\n",
       "[15,]  0.02254884  1.37395308 5.006723\n",
       "[16,] -0.78382195  0.02732178 3.699269\n",
       "[17,] -0.25894664  3.22730533 3.311673\n",
       "[18,] -1.77794429  1.77587398 6.411588\n",
       "[19,] -0.85588453  0.50165822 3.754188\n",
       "[20,]  0.80347266  2.48278422 6.099132\n",
       "[21,]  1.29867444 -0.76546414 5.009939\n",
       "[22,] -1.16812766  2.13247865 4.948862\n",
       "[23,]  0.37381898  0.53735281 5.220974\n",
       "[24,] -2.34619666  1.73436960 5.348013\n",
       "[25,] -0.64631839  1.46928318 4.247506\n",
       "[26,]  1.44765728  0.47218755 7.268019\n",
       "[27,]  0.03854257  3.40143508 3.887112\n",
       "[28,]  0.59751920  2.34337239 3.634620\n",
       "[29,] -0.28921647  2.44802553 5.024519\n",
       "[30,] -0.67095405  2.03870845 6.060513"
      ]
     },
     "metadata": {},
     "output_type": "display_data"
    }
   ],
   "source": [
    "m"
   ]
  },
  {
   "cell_type": "code",
   "execution_count": 32,
   "metadata": {},
   "outputs": [
    {
     "data": {
      "text/html": [
       "<ol class=list-inline>\n",
       "\t<li>-0.353547259488817</li>\n",
       "\t<li>1.53454578753544</li>\n",
       "\t<li>4.83617238935915</li>\n",
       "</ol>\n"
      ],
      "text/latex": [
       "\\begin{enumerate*}\n",
       "\\item -0.353547259488817\n",
       "\\item 1.53454578753544\n",
       "\\item 4.83617238935915\n",
       "\\end{enumerate*}\n"
      ],
      "text/markdown": [
       "1. -0.353547259488817\n",
       "2. 1.53454578753544\n",
       "3. 4.83617238935915\n",
       "\n",
       "\n"
      ],
      "text/plain": [
       "[1] -0.3535473  1.5345458  4.8361724"
      ]
     },
     "metadata": {},
     "output_type": "display_data"
    }
   ],
   "source": [
    "apply(m, 2, mean)"
   ]
  },
  {
   "cell_type": "code",
   "execution_count": 33,
   "metadata": {},
   "outputs": [
    {
     "data": {
      "text/html": [
       "<ol class=list-inline>\n",
       "\t<li>20</li>\n",
       "\t<li>1</li>\n",
       "\t<li>0</li>\n",
       "</ol>\n"
      ],
      "text/latex": [
       "\\begin{enumerate*}\n",
       "\\item 20\n",
       "\\item 1\n",
       "\\item 0\n",
       "\\end{enumerate*}\n"
      ],
      "text/markdown": [
       "1. 20\n",
       "2. 1\n",
       "3. 0\n",
       "\n",
       "\n"
      ],
      "text/plain": [
       "[1] 20  1  0"
      ]
     },
     "metadata": {},
     "output_type": "display_data"
    }
   ],
   "source": [
    "apply(m, 2, function(x) length(x[x<0]))"
   ]
  },
  {
   "cell_type": "markdown",
   "metadata": {},
   "source": [
    "Here the function definition is not required, we could instead just pass the is.vector function, as it only takes one argument and has already been wrapped up in a function for us. Let’s check they are vectors as we might expect."
   ]
  },
  {
   "cell_type": "code",
   "execution_count": 40,
   "metadata": {},
   "outputs": [
    {
     "data": {
      "text/html": [
       "<ol class=list-inline>\n",
       "\t<li>TRUE</li>\n",
       "\t<li>TRUE</li>\n",
       "\t<li>TRUE</li>\n",
       "</ol>\n"
      ],
      "text/latex": [
       "\\begin{enumerate*}\n",
       "\\item TRUE\n",
       "\\item TRUE\n",
       "\\item TRUE\n",
       "\\end{enumerate*}\n"
      ],
      "text/markdown": [
       "1. TRUE\n",
       "2. TRUE\n",
       "3. TRUE\n",
       "\n",
       "\n"
      ],
      "text/plain": [
       "[1] TRUE TRUE TRUE"
      ]
     },
     "metadata": {},
     "output_type": "display_data"
    }
   ],
   "source": [
    "apply(m, 2, is.vector) == apply(m, 2, function(x) is.vector(x))"
   ]
  },
  {
   "cell_type": "markdown",
   "metadata": {},
   "source": [
    "Why then did we need to wrap up our length function? When we want to define our own handling function for apply, we must at a minimum give a name to the incoming data, so we can use it in our function."
   ]
  },
  {
   "cell_type": "code",
   "execution_count": 41,
   "metadata": {},
   "outputs": [
    {
     "ename": "ERROR",
     "evalue": "Error in match.fun(FUN): object 'x' not found\n",
     "output_type": "error",
     "traceback": [
      "Error in match.fun(FUN): object 'x' not found\nTraceback:\n",
      "1. apply(m, 2, length(x[x < 0]))",
      "2. match.fun(FUN)"
     ]
    }
   ],
   "source": [
    "apply(m, 2, length(x[x<0]))"
   ]
  },
  {
   "cell_type": "code",
   "execution_count": 42,
   "metadata": {},
   "outputs": [
    {
     "data": {
      "text/html": [
       "<ol class=list-inline>\n",
       "\t<li>0.735644143741699</li>\n",
       "\t<li>1.61385647458111</li>\n",
       "\t<li>4.83617238935915</li>\n",
       "</ol>\n"
      ],
      "text/latex": [
       "\\begin{enumerate*}\n",
       "\\item 0.735644143741699\n",
       "\\item 1.61385647458111\n",
       "\\item 4.83617238935915\n",
       "\\end{enumerate*}\n"
      ],
      "text/markdown": [
       "1. 0.735644143741699\n",
       "2. 1.61385647458111\n",
       "3. 4.83617238935915\n",
       "\n",
       "\n"
      ],
      "text/plain": [
       "[1] 0.7356441 1.6138565 4.8361724"
      ]
     },
     "metadata": {},
     "output_type": "display_data"
    }
   ],
   "source": [
    "apply(m, 2, function(x) mean(x[x>0]))"
   ]
  },
  {
   "cell_type": "code",
   "execution_count": null,
   "metadata": {},
   "outputs": [],
   "source": []
  }
 ],
 "metadata": {
  "kernelspec": {
   "display_name": "R",
   "language": "R",
   "name": "ir"
  },
  "language_info": {
   "codemirror_mode": "r",
   "file_extension": ".r",
   "mimetype": "text/x-r-source",
   "name": "R",
   "pygments_lexer": "r",
   "version": "3.5.0"
  }
 },
 "nbformat": 4,
 "nbformat_minor": 2
}
