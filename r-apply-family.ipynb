{
 "cells": [
  {
   "cell_type": "markdown",
   "metadata": {},
   "source": [
    "These functions allow crossing the data in a number of ways and avoid explicit use of loop constructs. They act on an input list, matrix or array and apply a named function with one or several optional arguments.\n",
    "\n",
    "#### apply()"
   ]
  },
  {
   "cell_type": "code",
   "execution_count": 6,
   "metadata": {},
   "outputs": [],
   "source": [
    "X <- matrix(rnorm(30), nrow=5, ncol=6)"
   ]
  },
  {
   "cell_type": "code",
   "execution_count": 7,
   "metadata": {},
   "outputs": [
    {
     "data": {
      "text/html": [
       "<table>\n",
       "<tbody>\n",
       "\t<tr><td> 0.4029070</td><td>-0.6111580</td><td>-0.1110993</td><td>1.03861071</td><td> 0.6337987</td><td> 0.8128393</td></tr>\n",
       "\t<tr><td>-1.6106310</td><td>-1.6155476</td><td>-0.6415986</td><td>0.70871958</td><td> 0.8617486</td><td> 0.4706307</td></tr>\n",
       "\t<tr><td>-0.5733615</td><td> 1.4025059</td><td>-2.0458345</td><td>0.33162131</td><td>-0.2783490</td><td>-0.2866901</td></tr>\n",
       "\t<tr><td>-0.4463302</td><td>-1.8855719</td><td> 0.4015227</td><td>0.08360631</td><td> 0.1910340</td><td>-1.1606639</td></tr>\n",
       "\t<tr><td>-2.1239840</td><td>-0.9275915</td><td> 0.3034109</td><td>0.07017375</td><td> 1.3278561</td><td>-0.2229517</td></tr>\n",
       "</tbody>\n",
       "</table>\n"
      ],
      "text/latex": [
       "\\begin{tabular}{llllll}\n",
       "\t  0.4029070 & -0.6111580 & -0.1110993 & 1.03861071 &  0.6337987 &  0.8128393\\\\\n",
       "\t -1.6106310 & -1.6155476 & -0.6415986 & 0.70871958 &  0.8617486 &  0.4706307\\\\\n",
       "\t -0.5733615 &  1.4025059 & -2.0458345 & 0.33162131 & -0.2783490 & -0.2866901\\\\\n",
       "\t -0.4463302 & -1.8855719 &  0.4015227 & 0.08360631 &  0.1910340 & -1.1606639\\\\\n",
       "\t -2.1239840 & -0.9275915 &  0.3034109 & 0.07017375 &  1.3278561 & -0.2229517\\\\\n",
       "\\end{tabular}\n"
      ],
      "text/markdown": [
       "\n",
       "|  0.4029070 | -0.6111580 | -0.1110993 | 1.03861071 |  0.6337987 |  0.8128393 | \n",
       "| -1.6106310 | -1.6155476 | -0.6415986 | 0.70871958 |  0.8617486 |  0.4706307 | \n",
       "| -0.5733615 |  1.4025059 | -2.0458345 | 0.33162131 | -0.2783490 | -0.2866901 | \n",
       "| -0.4463302 | -1.8855719 |  0.4015227 | 0.08360631 |  0.1910340 | -1.1606639 | \n",
       "| -2.1239840 | -0.9275915 |  0.3034109 | 0.07017375 |  1.3278561 | -0.2229517 | \n",
       "\n",
       "\n"
      ],
      "text/plain": [
       "     [,1]       [,2]       [,3]       [,4]       [,5]       [,6]      \n",
       "[1,]  0.4029070 -0.6111580 -0.1110993 1.03861071  0.6337987  0.8128393\n",
       "[2,] -1.6106310 -1.6155476 -0.6415986 0.70871958  0.8617486  0.4706307\n",
       "[3,] -0.5733615  1.4025059 -2.0458345 0.33162131 -0.2783490 -0.2866901\n",
       "[4,] -0.4463302 -1.8855719  0.4015227 0.08360631  0.1910340 -1.1606639\n",
       "[5,] -2.1239840 -0.9275915  0.3034109 0.07017375  1.3278561 -0.2229517"
      ]
     },
     "metadata": {},
     "output_type": "display_data"
    }
   ],
   "source": [
    "X"
   ]
  },
  {
   "cell_type": "code",
   "execution_count": 8,
   "metadata": {},
   "outputs": [
    {
     "data": {
      "text/html": [
       "<ol class=list-inline>\n",
       "\t<li>-4.35139977565933</li>\n",
       "\t<li>-3.63736306855662</li>\n",
       "\t<li>-2.09359875651496</li>\n",
       "\t<li>2.23273166384564</li>\n",
       "\t<li>2.73608846235525</li>\n",
       "\t<li>-0.386835818236822</li>\n",
       "</ol>\n"
      ],
      "text/latex": [
       "\\begin{enumerate*}\n",
       "\\item -4.35139977565933\n",
       "\\item -3.63736306855662\n",
       "\\item -2.09359875651496\n",
       "\\item 2.23273166384564\n",
       "\\item 2.73608846235525\n",
       "\\item -0.386835818236822\n",
       "\\end{enumerate*}\n"
      ],
      "text/markdown": [
       "1. -4.35139977565933\n",
       "2. -3.63736306855662\n",
       "3. -2.09359875651496\n",
       "4. 2.23273166384564\n",
       "5. 2.73608846235525\n",
       "6. -0.386835818236822\n",
       "\n",
       "\n"
      ],
      "text/plain": [
       "[1] -4.3513998 -3.6373631 -2.0935988  2.2327317  2.7360885 -0.3868358"
      ]
     },
     "metadata": {},
     "output_type": "display_data"
    }
   ],
   "source": [
    "apply(X, 2, sum)"
   ]
  },
  {
   "cell_type": "markdown",
   "metadata": {},
   "source": [
    "#### lapply()\n",
    "\n",
    "The difference from apply() is that:\n",
    "\n",
    "- It can be used for other objects like dataframes, lists or vectors; and\n",
    "- The output returned is a list (which explains the “l” in the function name), which has the same number of elements as the object passed to it."
   ]
  },
  {
   "cell_type": "code",
   "execution_count": 23,
   "metadata": {},
   "outputs": [],
   "source": [
    "A <- matrix(data = 1:9, nrow = 3, ncol = 3)\n",
    "B <- matrix(data = 4:15, nrow = 4, ncol = 3)\n",
    "C <- matrix(data = 8:10, nrow = 3, ncol = 2)\n",
    "\n",
    "MyList <- list(A, B, C)"
   ]
  },
  {
   "cell_type": "code",
   "execution_count": 26,
   "metadata": {},
   "outputs": [
    {
     "data": {
      "text/html": [
       "<ol>\n",
       "\t<li><table>\n",
       "<tbody>\n",
       "\t<tr><td>1</td><td>4</td><td>7</td></tr>\n",
       "\t<tr><td>2</td><td>5</td><td>8</td></tr>\n",
       "\t<tr><td>3</td><td>6</td><td>9</td></tr>\n",
       "</tbody>\n",
       "</table>\n",
       "</li>\n",
       "\t<li><table>\n",
       "<tbody>\n",
       "\t<tr><td>4 </td><td> 8</td><td>12</td></tr>\n",
       "\t<tr><td>5 </td><td> 9</td><td>13</td></tr>\n",
       "\t<tr><td>6 </td><td>10</td><td>14</td></tr>\n",
       "\t<tr><td>7 </td><td>11</td><td>15</td></tr>\n",
       "</tbody>\n",
       "</table>\n",
       "</li>\n",
       "\t<li><table>\n",
       "<tbody>\n",
       "\t<tr><td> 8</td><td> 8</td></tr>\n",
       "\t<tr><td> 9</td><td> 9</td></tr>\n",
       "\t<tr><td>10</td><td>10</td></tr>\n",
       "</tbody>\n",
       "</table>\n",
       "</li>\n",
       "</ol>\n"
      ],
      "text/latex": [
       "\\begin{enumerate}\n",
       "\\item \\begin{tabular}{lll}\n",
       "\t 1 & 4 & 7\\\\\n",
       "\t 2 & 5 & 8\\\\\n",
       "\t 3 & 6 & 9\\\\\n",
       "\\end{tabular}\n",
       "\n",
       "\\item \\begin{tabular}{lll}\n",
       "\t 4  &  8 & 12\\\\\n",
       "\t 5  &  9 & 13\\\\\n",
       "\t 6  & 10 & 14\\\\\n",
       "\t 7  & 11 & 15\\\\\n",
       "\\end{tabular}\n",
       "\n",
       "\\item \\begin{tabular}{ll}\n",
       "\t  8 &  8\\\\\n",
       "\t  9 &  9\\\\\n",
       "\t 10 & 10\\\\\n",
       "\\end{tabular}\n",
       "\n",
       "\\end{enumerate}\n"
      ],
      "text/markdown": [
       "1. \n",
       "| 1 | 4 | 7 | \n",
       "| 2 | 5 | 8 | \n",
       "| 3 | 6 | 9 | \n",
       "\n",
       "\n",
       "\n",
       "2. \n",
       "| 4  |  8 | 12 | \n",
       "| 5  |  9 | 13 | \n",
       "| 6  | 10 | 14 | \n",
       "| 7  | 11 | 15 | \n",
       "\n",
       "\n",
       "\n",
       "3. \n",
       "|  8 |  8 | \n",
       "|  9 |  9 | \n",
       "| 10 | 10 | \n",
       "\n",
       "\n",
       "\n",
       "\n",
       "\n"
      ],
      "text/plain": [
       "[[1]]\n",
       "     [,1] [,2] [,3]\n",
       "[1,]    1    4    7\n",
       "[2,]    2    5    8\n",
       "[3,]    3    6    9\n",
       "\n",
       "[[2]]\n",
       "     [,1] [,2] [,3]\n",
       "[1,]    4    8   12\n",
       "[2,]    5    9   13\n",
       "[3,]    6   10   14\n",
       "[4,]    7   11   15\n",
       "\n",
       "[[3]]\n",
       "     [,1] [,2]\n",
       "[1,]    8    8\n",
       "[2,]    9    9\n",
       "[3,]   10   10\n"
      ]
     },
     "metadata": {},
     "output_type": "display_data"
    }
   ],
   "source": [
    "MyList"
   ]
  },
  {
   "cell_type": "markdown",
   "metadata": {},
   "source": [
    "The empty space between the commas is because that's because where you'd say what row we want; \n",
    "here, we only want column"
   ]
  },
  {
   "cell_type": "code",
   "execution_count": 42,
   "metadata": {},
   "outputs": [
    {
     "data": {
      "text/html": [
       "<ol>\n",
       "\t<li><ol class=list-inline>\n",
       "\t<li>4</li>\n",
       "\t<li>5</li>\n",
       "\t<li>6</li>\n",
       "</ol>\n",
       "</li>\n",
       "\t<li><ol class=list-inline>\n",
       "\t<li>8</li>\n",
       "\t<li>9</li>\n",
       "\t<li>10</li>\n",
       "\t<li>11</li>\n",
       "</ol>\n",
       "</li>\n",
       "\t<li><ol class=list-inline>\n",
       "\t<li>8</li>\n",
       "\t<li>9</li>\n",
       "\t<li>10</li>\n",
       "</ol>\n",
       "</li>\n",
       "</ol>\n"
      ],
      "text/latex": [
       "\\begin{enumerate}\n",
       "\\item \\begin{enumerate*}\n",
       "\\item 4\n",
       "\\item 5\n",
       "\\item 6\n",
       "\\end{enumerate*}\n",
       "\n",
       "\\item \\begin{enumerate*}\n",
       "\\item 8\n",
       "\\item 9\n",
       "\\item 10\n",
       "\\item 11\n",
       "\\end{enumerate*}\n",
       "\n",
       "\\item \\begin{enumerate*}\n",
       "\\item 8\n",
       "\\item 9\n",
       "\\item 10\n",
       "\\end{enumerate*}\n",
       "\n",
       "\\end{enumerate}\n"
      ],
      "text/markdown": [
       "1. 1. 4\n",
       "2. 5\n",
       "3. 6\n",
       "\n",
       "\n",
       "\n",
       "2. 1. 8\n",
       "2. 9\n",
       "3. 10\n",
       "4. 11\n",
       "\n",
       "\n",
       "\n",
       "3. 1. 8\n",
       "2. 9\n",
       "3. 10\n",
       "\n",
       "\n",
       "\n",
       "\n",
       "\n"
      ],
      "text/plain": [
       "[[1]]\n",
       "[1] 4 5 6\n",
       "\n",
       "[[2]]\n",
       "[1]  8  9 10 11\n",
       "\n",
       "[[3]]\n",
       "[1]  8  9 10\n"
      ]
     },
     "metadata": {},
     "output_type": "display_data"
    }
   ],
   "source": [
    "lapply(MyList,\"[\", ,2)"
   ]
  },
  {
   "cell_type": "markdown",
   "metadata": {},
   "source": [
    "In this case we have selected a row, but we've left the column blank"
   ]
  },
  {
   "cell_type": "code",
   "execution_count": 43,
   "metadata": {},
   "outputs": [
    {
     "data": {
      "text/html": [
       "<ol>\n",
       "\t<li><ol class=list-inline>\n",
       "\t<li>1</li>\n",
       "\t<li>4</li>\n",
       "\t<li>7</li>\n",
       "</ol>\n",
       "</li>\n",
       "\t<li><ol class=list-inline>\n",
       "\t<li>4</li>\n",
       "\t<li>8</li>\n",
       "\t<li>12</li>\n",
       "</ol>\n",
       "</li>\n",
       "\t<li><ol class=list-inline>\n",
       "\t<li>8</li>\n",
       "\t<li>8</li>\n",
       "</ol>\n",
       "</li>\n",
       "</ol>\n"
      ],
      "text/latex": [
       "\\begin{enumerate}\n",
       "\\item \\begin{enumerate*}\n",
       "\\item 1\n",
       "\\item 4\n",
       "\\item 7\n",
       "\\end{enumerate*}\n",
       "\n",
       "\\item \\begin{enumerate*}\n",
       "\\item 4\n",
       "\\item 8\n",
       "\\item 12\n",
       "\\end{enumerate*}\n",
       "\n",
       "\\item \\begin{enumerate*}\n",
       "\\item 8\n",
       "\\item 8\n",
       "\\end{enumerate*}\n",
       "\n",
       "\\end{enumerate}\n"
      ],
      "text/markdown": [
       "1. 1. 1\n",
       "2. 4\n",
       "3. 7\n",
       "\n",
       "\n",
       "\n",
       "2. 1. 4\n",
       "2. 8\n",
       "3. 12\n",
       "\n",
       "\n",
       "\n",
       "3. 1. 8\n",
       "2. 8\n",
       "\n",
       "\n",
       "\n",
       "\n",
       "\n"
      ],
      "text/plain": [
       "[[1]]\n",
       "[1] 1 4 7\n",
       "\n",
       "[[2]]\n",
       "[1]  4  8 12\n",
       "\n",
       "[[3]]\n",
       "[1] 8 8\n"
      ]
     },
     "metadata": {},
     "output_type": "display_data"
    }
   ],
   "source": [
    "lapply(MyList, \"[\", 1, )"
   ]
  },
  {
   "cell_type": "code",
   "execution_count": null,
   "metadata": {},
   "outputs": [],
   "source": []
  }
 ],
 "metadata": {
  "kernelspec": {
   "display_name": "R",
   "language": "R",
   "name": "ir"
  },
  "language_info": {
   "codemirror_mode": "r",
   "file_extension": ".r",
   "mimetype": "text/x-r-source",
   "name": "R",
   "pygments_lexer": "r",
   "version": "3.4.3"
  }
 },
 "nbformat": 4,
 "nbformat_minor": 2
}
