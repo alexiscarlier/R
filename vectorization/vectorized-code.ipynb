{
 "cells": [
  {
   "cell_type": "code",
   "execution_count": null,
   "metadata": {},
   "outputs": [],
   "source": [
    "library(tidyverse)"
   ]
  },
  {
   "cell_type": "code",
   "execution_count": null,
   "metadata": {},
   "outputs": [],
   "source": [
    "# unvectorized\n",
    "\n",
    "abs_loop <- function(vec){\n",
    "    for (i in 1:length(vec)) {\n",
    "        if (vec[i] < 0) {\n",
    "            vec[i] <- -vec[i]\n",
    "        }\n",
    "    }\n",
    "    vec\n",
    "}"
   ]
  },
  {
   "cell_type": "code",
   "execution_count": null,
   "metadata": {},
   "outputs": [],
   "source": [
    "vect <- c(1, -1, 2, -2)"
   ]
  },
  {
   "cell_type": "code",
   "execution_count": null,
   "metadata": {},
   "outputs": [],
   "source": [
    "abs_loop(vect)"
   ]
  },
  {
   "cell_type": "code",
   "execution_count": null,
   "metadata": {},
   "outputs": [],
   "source": [
    "# vectorized\n",
    "\n",
    "abs_sets <- function(vec){\n",
    "    negs <- vec < 0\n",
    "    vec[negs] <- vec[negs] * -1 \n",
    "    vec\n",
    "}\n",
    "\n",
    "# Quick because it relies on operations that R does quickly: logical tests, subsetting, and element-wise execution"
   ]
  },
  {
   "cell_type": "code",
   "execution_count": null,
   "metadata": {},
   "outputs": [],
   "source": [
    "abs_sets(vect)"
   ]
  },
  {
   "cell_type": "code",
   "execution_count": null,
   "metadata": {},
   "outputs": [],
   "source": [
    "long <- rep(c(-1, 1), 5000000)"
   ]
  },
  {
   "cell_type": "code",
   "execution_count": null,
   "metadata": {},
   "outputs": [],
   "source": [
    "system.time(abs_loop(long))"
   ]
  },
  {
   "cell_type": "code",
   "execution_count": null,
   "metadata": {},
   "outputs": [],
   "source": [
    "system.time(abs_sets(long))"
   ]
  },
  {
   "cell_type": "code",
   "execution_count": null,
   "metadata": {},
   "outputs": [],
   "source": [
    "system.time(abs(long))"
   ]
  },
  {
   "cell_type": "code",
   "execution_count": null,
   "metadata": {},
   "outputs": [],
   "source": [
    "vec <- c(1, -2, 3, -4, 5, -6, 7, -8, 9, -10)\n",
    "vec < 0"
   ]
  },
  {
   "cell_type": "code",
   "execution_count": null,
   "metadata": {},
   "outputs": [],
   "source": [
    "vec[vec < 0] * -1"
   ]
  },
  {
   "cell_type": "code",
   "execution_count": null,
   "metadata": {},
   "outputs": [],
   "source": [
    "vec[vec < 0] <- vec[vec < 0] * - 1"
   ]
  },
  {
   "cell_type": "code",
   "execution_count": null,
   "metadata": {},
   "outputs": [],
   "source": [
    "vec"
   ]
  },
  {
   "cell_type": "code",
   "execution_count": null,
   "metadata": {},
   "outputs": [],
   "source": [
    "change_symbols <-function(vec){for(i in1:length(vec)){if(vec[i]==\"DD\"){      vec[i]<-\"joker\"}elseif(vec[i]==\"C\"){      vec[i]<-\"ace\"}elseif(vec[i]==\"7\"){      vec[i]<-\"king\"}elseif(vec[i]==\"B\"){      vec[i]<-\"queen\"}elseif(vec[i]==\"BB\"){      vec[i]<-\"jack\"}elseif(vec[i]==\"BBB\"){      vec[i]<-\"ten\"}else{      vec[i]<-\"nine\"}}  vec}"
   ]
  },
  {
   "cell_type": "code",
   "execution_count": null,
   "metadata": {},
   "outputs": [],
   "source": [
    "change_symbols_original <- function(vec){\n",
    "    for (i in 1:length(vec)){\n",
    "        if (vec[i] == \"DD\") {\n",
    "            vec[i] <- \"joker\"\n",
    "        }\n",
    "        else if (vec[i] == \"C\") {\n",
    "            vec[i] <- \"ace\"\n",
    "        }\n",
    "        else if (vec[i] == \"7\") {\n",
    "            vec[i] <- \"king\"\n",
    "        }\n",
    "        else if (vec[i] == \"B\") {\n",
    "            vec[i] <- \"queen\"\n",
    "        }\n",
    "        else if (vec[i] == \"BB\") {\n",
    "            vec[i] <- \"jack\"\n",
    "        }\n",
    "        else if (vec[i] == \"BBB\") {\n",
    "            vec[i] <- \"ten\"\n",
    "        }\n",
    "        else {\n",
    "            vec[i] <- \"nine\"\n",
    "        }\n",
    "    }\n",
    "    vec\n",
    "}"
   ]
  },
  {
   "cell_type": "code",
   "execution_count": null,
   "metadata": {},
   "outputs": [],
   "source": [
    "change_symbols_vect <- function(vec) {\n",
    "    \n",
    "}\n",
    "\n",
    "\n",
    "# vectorized\n",
    "\n",
    "abs_sets <- function(vec){\n",
    "    negs <- vec < 0\n",
    "    vec[negs] <- vec[negs] * -1 \n",
    "    vec\n",
    "}"
   ]
  },
  {
   "cell_type": "code",
   "execution_count": null,
   "metadata": {},
   "outputs": [],
   "source": [
    "vec <- c(\"DD\",\"C\",\"7\",\"B\",\"BB\",\"BBB\",\"0\")\n",
    "change_symbols(vec)\n",
    "\n",
    "# 'joker' 'ace' 'king' 'queen' 'jack' 'ten' 'nine'"
   ]
  },
  {
   "cell_type": "code",
   "execution_count": null,
   "metadata": {},
   "outputs": [],
   "source": [
    "class(vec)"
   ]
  },
  {
   "cell_type": "code",
   "execution_count": null,
   "metadata": {},
   "outputs": [],
   "source": [
    "vec"
   ]
  },
  {
   "cell_type": "code",
   "execution_count": null,
   "metadata": {},
   "outputs": [],
   "source": [
    "change_symbols(vec)"
   ]
  },
  {
   "cell_type": "code",
   "execution_count": null,
   "metadata": {},
   "outputs": [],
   "source": [
    "many <- rep(vec, 1000000)"
   ]
  },
  {
   "cell_type": "code",
   "execution_count": null,
   "metadata": {},
   "outputs": [],
   "source": [
    "system.time(change_symbols_original(many))"
   ]
  },
  {
   "cell_type": "code",
   "execution_count": null,
   "metadata": {},
   "outputs": [],
   "source": []
  },
  {
   "cell_type": "code",
   "execution_count": null,
   "metadata": {},
   "outputs": [],
   "source": [
    "ifelse(vec == \"DD\", \"joker\", ifelse(vec == \"C\", \"ace\",ifelse(vec == \"7\", \"king\",ifelse(vec == \"B\", \"queen\",ifelse(vec == \"BB\", \"jack\",ifelse(vec == \"BBB\", \"ten\",\"nine\"))))))"
   ]
  },
  {
   "cell_type": "code",
   "execution_count": null,
   "metadata": {},
   "outputs": [],
   "source": []
  },
  {
   "cell_type": "code",
   "execution_count": null,
   "metadata": {},
   "outputs": [],
   "source": []
  },
  {
   "cell_type": "code",
   "execution_count": null,
   "metadata": {},
   "outputs": [],
   "source": [
    "change_symbols <- function(vec){\n",
    "ifelse(vec == \"DD\", \"joker\", ifelse(vec == \"C\", \"ace\",ifelse(vec == \"7\", \"king\",ifelse(vec == \"B\", \"queen\",ifelse(vec == \"BB\", \"jack\",ifelse(vec == \"BBB\", \"ten\",\"nine\"))))))\n",
    "}"
   ]
  },
  {
   "cell_type": "code",
   "execution_count": null,
   "metadata": {},
   "outputs": [],
   "source": [
    "change_symbols(vec)"
   ]
  },
  {
   "cell_type": "code",
   "execution_count": null,
   "metadata": {},
   "outputs": [],
   "source": []
  },
  {
   "cell_type": "code",
   "execution_count": null,
   "metadata": {},
   "outputs": [],
   "source": [
    "change_symbols_vect(vec)"
   ]
  },
  {
   "cell_type": "code",
   "execution_count": null,
   "metadata": {},
   "outputs": [],
   "source": [
    "system.time(change_symbols(many))"
   ]
  },
  {
   "cell_type": "code",
   "execution_count": null,
   "metadata": {},
   "outputs": [],
   "source": [
    "system.time(change_symbols_vect(many))"
   ]
  },
  {
   "cell_type": "code",
   "execution_count": null,
   "metadata": {},
   "outputs": [],
   "source": [
    "change_vec2 <-function(vec){  tb <- c(\"DD\"=\"joker\",\"C\"=\"ace\",\"7\"=\"king\",\"B\"=\"queen\",\"BB\"=\"jack\",\"BBB\"=\"ten\",\"0\"=\"nine\")  unname(tb[vec])}"
   ]
  },
  {
   "cell_type": "code",
   "execution_count": null,
   "metadata": {},
   "outputs": [],
   "source": [
    "change_symbols_vect <- function(vec){\n",
    "    vec[vec == \"DD\"] <- \"joker\"\n",
    "    vec[vec == \"C\"] <- \"ace\"\n",
    "    vec[vec == \"7\"] <- \"king\"\n",
    "    vec[vec == \"B\"] <- \"queen\"\n",
    "    vec[vec == \"BB\"] <- \"jack\"\n",
    "    vec[vec == \"BBB\"] <- \"ten\"\n",
    "    vec[vec == \"0\"] <- \"nine\"\n",
    "    vec\n",
    "}"
   ]
  },
  {
   "cell_type": "code",
   "execution_count": null,
   "metadata": {},
   "outputs": [],
   "source": [
    "change_vec2 <- function(vec){\n",
    "    tb <- c(\"DD\" = \"joker\", \"C\" = \"ace\", \"7\" = \"king\", \"B\" = \"queen\", \"BB\" = \"jack\", \"BBB\" = \"ten\", \"0\" = \"nine\")\n",
    "    unname(tb[vec])\n",
    "}"
   ]
  },
  {
   "cell_type": "code",
   "execution_count": null,
   "metadata": {},
   "outputs": [],
   "source": [
    "system.time(change_vec2(many))"
   ]
  },
  {
   "cell_type": "code",
   "execution_count": null,
   "metadata": {},
   "outputs": [],
   "source": [
    "system.time(change_symbols_vect(many))"
   ]
  },
  {
   "cell_type": "code",
   "execution_count": null,
   "metadata": {},
   "outputs": [],
   "source": [
    "tb2 <- c(\"DD\" = \"joker\", \"C\" = \"ace\", \"7\" = \"king\", \"B\" = \"queen\", \"BB\" = \"jack\", \"BBB\" = \"ten\", \"0\" = \"nine\")"
   ]
  },
  {
   "cell_type": "code",
   "execution_count": null,
   "metadata": {},
   "outputs": [],
   "source": [
    "tb2[\"C\"]"
   ]
  },
  {
   "cell_type": "code",
   "execution_count": null,
   "metadata": {},
   "outputs": [],
   "source": [
    "tb <- c(\"DD\" = \"joker\", \"C\" = \"ace\", \"7\" = \"king\", \"B\" = \"queen\", \"BB\" = \"jack\", \"BBB\" = \"ten\", \"0\" = \"nine\")\n",
    "    unname(tb[vec])"
   ]
  },
  {
   "cell_type": "code",
   "execution_count": null,
   "metadata": {},
   "outputs": [],
   "source": [
    "winnings <- vector(length = 1000000)\n",
    "for (i in 1:1000000) {\n",
    "    winnings[i] <- play()\n",
    "}\n",
    "\n",
    "mean(winnings)"
   ]
  },
  {
   "cell_type": "code",
   "execution_count": null,
   "metadata": {},
   "outputs": [],
   "source": [
    "get_many_symbols <- function(n) {\n",
    "    wheel <- c(\"DD\", \"7\", \"BBB\", \"BB\", \"B\", \"C\", \"0\")\n",
    "    vec <- sample(wheel, size = 3 * n, replace = TRUE, \n",
    "      prob = c(0.03, 0.03, 0.06, 0.1, 0.25, 0.01, 0.52))\n",
    "    matrix(vec, ncol = 3)\n",
    "}"
   ]
  },
  {
   "cell_type": "code",
   "execution_count": null,
   "metadata": {},
   "outputs": [],
   "source": [
    "prob = c(0.03, 0.03, 0.06, 0.1, 0.25, 0.01, 0.52)\n",
    "sum(prob)"
   ]
  },
  {
   "cell_type": "code",
   "execution_count": null,
   "metadata": {},
   "outputs": [],
   "source": [
    "get_many_symbols(5)"
   ]
  },
  {
   "cell_type": "code",
   "execution_count": null,
   "metadata": {},
   "outputs": [],
   "source": [
    "play_many <- function(n) {\n",
    "    symb_mat <- get_many_symbols(n = n)\n",
    "    data.frame(w1 = symb_mat[,1], w2 = symb_mat[,2],\n",
    "               w3 = symb_mat[,3], prize = score_many(symb_mat))\n",
    "}"
   ]
  },
  {
   "cell_type": "code",
   "execution_count": null,
   "metadata": {},
   "outputs": [],
   "source": [
    "play_many(5)"
   ]
  },
  {
   "cell_type": "code",
   "execution_count": null,
   "metadata": {},
   "outputs": [],
   "source": [
    "symb_mat <- get_many_symbols(12)\n",
    "\n",
    "data.frame(w1 = symb_mat[,1], w2 = symb_mat[,2],w3 = symb_mat[,3])"
   ]
  },
  {
   "cell_type": "code",
   "execution_count": null,
   "metadata": {},
   "outputs": [],
   "source": [
    "symb_mat[1]"
   ]
  },
  {
   "cell_type": "code",
   "execution_count": null,
   "metadata": {},
   "outputs": [],
   "source": [
    "# If you would like to test yourself in a more modest way, I recommend that you studythe following model score_many function until you understand how each part worksand how the parts work together to create a vectorized function"
   ]
  },
  {
   "cell_type": "code",
   "execution_count": null,
   "metadata": {},
   "outputs": [],
   "source": [
    "symbols <- matrix(\n",
    "    c(\"DD\", \"DD\", \"DD\", \n",
    "      \"C\", \"DD\", \"0\",\n",
    "      \"B\", \"B\", \"B\",\n",
    "      \"B\", \"BB\", \"BBB\",\n",
    "      \"C\", \"C\", \"0\",\n",
    "      \"7\", \"DD\", \"DD\"), nrow = 6, byrow = TRUE)"
   ]
  },
  {
   "cell_type": "code",
   "execution_count": null,
   "metadata": {},
   "outputs": [],
   "source": [
    "symbols"
   ]
  },
  {
   "cell_type": "code",
   "execution_count": 2,
   "metadata": {},
   "outputs": [],
   "source": [
    "# Unvectorized score function \n",
    "\n",
    "score <- function(symbols) {\n",
    "  diamonds <- sum(symbols == \"DD\")\n",
    "  cherries <- sum(symbols == \"C\")\n",
    "    \n",
    "  slots <- symbols[symbols != \"DD\"]\n",
    "  same <- length(unique(slots)) == 1 \n",
    "  bars <- slots %in% c(\"B\", \"BB\", \"BBB\")\n",
    "  \n",
    "  if (diamonds == 3) {\n",
    "      prize <- 100\n",
    "  } else if (same) {\n",
    "      payouts <- c(\"7\" = 80, \"BBB\" = 40, \"BB\" = 25, \n",
    "        \"B\" = 10, \"C\" = 10, \"0\" = 0)\n",
    "      prize <- unname(payouts[slots[1]])\n",
    "  } else if (all(bars)) {\n",
    "      prize <- 5\n",
    "  } else if (cherries > 0) {\n",
    "      prize <- c(0, 2, 5)[cherries + diamonds + 1]\n",
    "  } else {\n",
    "      prize <- 0\n",
    "  }\n",
    "    \n",
    "  prize * 2^diamonds\n",
    "}\n",
    "  "
   ]
  },
  {
   "cell_type": "code",
   "execution_count": 24,
   "metadata": {},
   "outputs": [],
   "source": [
    "# Vectorized version of score \n",
    "\n",
    "score_many <- function(symbols) {\n",
    "    \n",
    "    cherries <- rowSums(symbols == \"C\")\n",
    "    diamonds <- rowSums(symbols == \"DD\")\n",
    "    \n",
    "    prize <- c(0, 2, 5)[cherries + diamonds + 1]\n",
    "    \n",
    "    prize[!cherries] <- 0\n",
    "    \n",
    "    same <- symbols[,1] == symbols[,2] & \n",
    "        symbols[,2] == symbols[,3]\n",
    "    \n",
    "    payoffs <- c(\"DD\" = 100, \"7\" = 80, \"BBB\" = 40,\n",
    "            \"BB\" = 25, \"B\" = 10, \"C\" = 10, \"0\" = 0)\n",
    "    prize[same] <- payoffs[symbols[same, 1]]\n",
    "    \n",
    "    bars <- symbols == \"B\" | symbols == \"BB\" | symbols == \"BBB\"\n",
    "    all_bars <- bars[,1] & bars[,2] & bars[,3] & !same\n",
    "    prize[all_bars] <- 5\n",
    "    \n",
    "    two_wilds <- diamonds == 2 \n",
    "    \n",
    "    one <- two_wilds & symbols[,1] != symbols[,2] & \n",
    "        symbols[,2] == symbols[,3]\n",
    "    two <- two_wilds & symbols[,1] != symbols[,2] & \n",
    "        symbols[,1] == symbols[,3]\n",
    "    three <- two_wilds & symbols[,1] == symbols[,2] & \n",
    "        symbols[,2] != symbols[,3]\n",
    "    \n",
    "    prize[one] <- payoffs[symbols[one, 1]]\n",
    "    prize[two] <- payoffs[symbols[two, 2]]\n",
    "    prize[three] <- payoffs[symbols[three, 3]]\n",
    "    \n",
    "    one_wild <- diamonds == 1\n",
    "    \n",
    "    wild_bars <- one_wild & (rowSums(bars) == 2)\n",
    "    prize[wild_bars] <- 5 \n",
    "    \n",
    "    one <- one_wild & symbols[,1] == symbols[,2]\n",
    "    two <- one_wild & symbols[,2] == symbols[,3]\n",
    "    three <- one_wild & symbols[,3] == symbols[,1]\n",
    "    prize[one] <- payoffs[symbols[one, 1]]\n",
    "    prize[two] <- payoffs[symbols[two, 2]]\n",
    "    prize[three] <- payoffs[symbols[three, 3]]\n",
    "    \n",
    "    unname(prize * 2^diamonds)\n",
    "     \n",
    "}"
   ]
  },
  {
   "cell_type": "code",
   "execution_count": 25,
   "metadata": {},
   "outputs": [],
   "source": [
    "# data_matrix = matrix(data = c(\"B\", \"BB\", \"BBB\", \"0\", \"7\", \"0\", \"C\", \"BB\", \"0\", nrow=3, ncol=3, byrow=TRUE))"
   ]
  },
  {
   "cell_type": "code",
   "execution_count": 26,
   "metadata": {},
   "outputs": [],
   "source": [
    "symbols <- matrix(\n",
    "    c(\"DD\", \"DD\", \"DD\", \n",
    "      \"C\", \"DD\", \"0\",\n",
    "      \"B\", \"B\", \"B\",\n",
    "      \"B\", \"BB\", \"BBB\",\n",
    "      \"C\", \"C\", \"0\",\n",
    "      \"7\", \"DD\", \"DD\"), nrow = 6, byrow = TRUE)"
   ]
  },
  {
   "cell_type": "code",
   "execution_count": null,
   "metadata": {},
   "outputs": [],
   "source": []
  },
  {
   "cell_type": "code",
   "execution_count": 27,
   "metadata": {},
   "outputs": [
    {
     "data": {
      "text/html": [
       "<ol class=list-inline>\n",
       "\t<li>800</li>\n",
       "\t<li>10</li>\n",
       "\t<li>10</li>\n",
       "\t<li>5</li>\n",
       "\t<li>5</li>\n",
       "\t<li>320</li>\n",
       "</ol>\n"
      ],
      "text/latex": [
       "\\begin{enumerate*}\n",
       "\\item 800\n",
       "\\item 10\n",
       "\\item 10\n",
       "\\item 5\n",
       "\\item 5\n",
       "\\item 320\n",
       "\\end{enumerate*}\n"
      ],
      "text/markdown": [
       "1. 800\n",
       "2. 10\n",
       "3. 10\n",
       "4. 5\n",
       "5. 5\n",
       "6. 320\n",
       "\n",
       "\n"
      ],
      "text/plain": [
       "[1] 800  10  10   5   5 320"
      ]
     },
     "metadata": {},
     "output_type": "display_data"
    }
   ],
   "source": [
    "score_many(symbols)"
   ]
  },
  {
   "cell_type": "code",
   "execution_count": 17,
   "metadata": {},
   "outputs": [
    {
     "name": "stdout",
     "output_type": "stream",
     "text": [
      "      [,1]  \n",
      " [1,] \"B\"   \n",
      " [2,] \"BB\"  \n",
      " [3,] \"BBB\" \n",
      " [4,] \"0\"   \n",
      " [5,] \"7\"   \n",
      " [6,] \"0\"   \n",
      " [7,] \"C\"   \n",
      " [8,] \"BB\"  \n",
      " [9,] \"0\"   \n",
      "[10,] \"3\"   \n",
      "[11,] \"3\"   \n",
      "[12,] \"TRUE\"\n"
     ]
    }
   ],
   "source": [
    "print(data)"
   ]
  },
  {
   "cell_type": "code",
   "execution_count": 7,
   "metadata": {},
   "outputs": [
    {
     "ename": "ERROR",
     "evalue": "Error in rowSums(symbols == \"C\"): 'x' must be an array of at least two dimensions\n",
     "output_type": "error",
     "traceback": [
      "Error in rowSums(symbols == \"C\"): 'x' must be an array of at least two dimensions\nTraceback:\n",
      "1. score_many(data)",
      "2. rowSums(symbols == \"C\")   # at line 5 of file <text>",
      "3. stop(\"'x' must be an array of at least two dimensions\")"
     ]
    }
   ],
   "source": [
    "score_many(data)"
   ]
  },
  {
   "cell_type": "code",
   "execution_count": null,
   "metadata": {},
   "outputs": [],
   "source": [
    "get_symbols <- function() {\n",
    "    wheel <- c(\"DD\", \"7\", \"BBB\", \"BB\", \"B\", \"C\", \"0\")\n",
    "    sample(wheel, size = 3, replace = TRUE,\n",
    "          prob = c(0.03, 0.03, 0.06, 0.1, 0.25, 0.01, 0.52))\n",
    "}"
   ]
  },
  {
   "cell_type": "code",
   "execution_count": null,
   "metadata": {},
   "outputs": [],
   "source": [
    "play <- function() {\n",
    "    symbols <- get_symbols()\n",
    "    print(symbols)\n",
    "    score(symbols)\n",
    "}"
   ]
  },
  {
   "cell_type": "code",
   "execution_count": null,
   "metadata": {},
   "outputs": [],
   "source": [
    "deterministic_play <- function(symbols) {\n",
    "    score(symbols)\n",
    "}"
   ]
  },
  {
   "cell_type": "code",
   "execution_count": null,
   "metadata": {},
   "outputs": [],
   "source": [
    "deterministic_play(c(\"DD\", \"DD\", \"B\"))"
   ]
  },
  {
   "cell_type": "code",
   "execution_count": null,
   "metadata": {},
   "outputs": [],
   "source": [
    "play()\n"
   ]
  },
  {
   "cell_type": "code",
   "execution_count": null,
   "metadata": {},
   "outputs": [],
   "source": [
    "play()"
   ]
  },
  {
   "cell_type": "code",
   "execution_count": null,
   "metadata": {},
   "outputs": [],
   "source": [
    "play()"
   ]
  },
  {
   "cell_type": "code",
   "execution_count": null,
   "metadata": {},
   "outputs": [],
   "source": [
    "play()\n",
    "play()\n",
    "play()\n",
    "play()\n",
    "play()\n",
    "play()\n",
    "play()\n",
    "play()\n",
    "play()\n",
    "play()\n",
    "play()\n",
    "play()\n",
    "play()"
   ]
  },
  {
   "cell_type": "markdown",
   "metadata": {},
   "source": []
  },
  {
   "cell_type": "code",
   "execution_count": null,
   "metadata": {},
   "outputs": [],
   "source": []
  },
  {
   "cell_type": "code",
   "execution_count": null,
   "metadata": {},
   "outputs": [],
   "source": [
    "# From replit\n",
    "\n",
    "symbols <- matrix(\n",
    "    c(\"DD\", \"DD\", \"DD\", \n",
    "      \"C\", \"DD\", \"0\",\n",
    "      \"B\", \"B\", \"B\",\n",
    "      \"B\", \"BB\", \"BBB\",\n",
    "      \"C\", \"C\", \"0\",\n",
    "      \"7\", \"DD\", \"DD\"), nrow = 6, byrow = TRUE)\n",
    "\n",
    "\n",
    "cherries <- rowSums(symbols == \"C\")\n",
    "diamonds <- rowSums(symbols == \"DD\")\n",
    "\n",
    "prize <- c(0, 2, 5)[cherries + diamonds + 1]\n",
    "prize[!cherries] <- 0\n",
    "\n",
    "same <- symbols[,1] == symbols[,2] & \n",
    "        symbols[,2] == symbols[,3]\n",
    "\n",
    "\n",
    "payoffs <- c(\"DD\" = 100, \"7\" = 80, \"BBB\" = 40, \"BB\"=25,\"B\"=10,\"C\"=10,\"0\"=0)\n",
    "\n",
    "\n",
    "# print(prize)\n",
    "\n",
    "prize[same] <- payoffs[symbols[same, 1]]\n",
    "\n"
   ]
  }
 ],
 "metadata": {
  "kernelspec": {
   "display_name": "R",
   "language": "R",
   "name": "ir"
  },
  "language_info": {
   "codemirror_mode": "r",
   "file_extension": ".r",
   "mimetype": "text/x-r-source",
   "name": "R",
   "pygments_lexer": "r",
   "version": "3.4.3"
  }
 },
 "nbformat": 4,
 "nbformat_minor": 2
}
